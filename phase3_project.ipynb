{
 "cells": [
  {
   "cell_type": "markdown",
   "metadata": {
    "toc": true
   },
   "source": [
    "<h1>Table of Contents<span class=\"tocSkip\"></span></h1>\n",
    "<div class=\"toc\"><ul class=\"toc-item\"><li><span><a href=\"#Phase3-Project\" data-toc-modified-id=\"Phase3-Project-1\"><span class=\"toc-item-num\">1&nbsp;&nbsp;</span>Phase3 Project</a></span><ul class=\"toc-item\"><li><span><a href=\"#Business-Objective\" data-toc-modified-id=\"Business-Objective-1.1\"><span class=\"toc-item-num\">1.1&nbsp;&nbsp;</span>Business Objective</a></span></li></ul></li><li><span><a href=\"#Dataset\" data-toc-modified-id=\"Dataset-2\"><span class=\"toc-item-num\">2&nbsp;&nbsp;</span>Dataset</a></span></li><li><span><a href=\"#Import-libraries\" data-toc-modified-id=\"Import-libraries-3\"><span class=\"toc-item-num\">3&nbsp;&nbsp;</span>Import libraries</a></span></li><li><span><a href=\"#EDA\" data-toc-modified-id=\"EDA-4\"><span class=\"toc-item-num\">4&nbsp;&nbsp;</span>EDA</a></span><ul class=\"toc-item\"><li><span><a href=\"#Checking-for-Null-values\" data-toc-modified-id=\"Checking-for-Null-values-4.1\"><span class=\"toc-item-num\">4.1&nbsp;&nbsp;</span>Checking for Null values</a></span></li><li><span><a href=\"#Checking-the-datatypes\" data-toc-modified-id=\"Checking-the-datatypes-4.2\"><span class=\"toc-item-num\">4.2&nbsp;&nbsp;</span>Checking the datatypes</a></span><ul class=\"toc-item\"><li><span><a href=\"#Numeric-data\" data-toc-modified-id=\"Numeric-data-4.2.1\"><span class=\"toc-item-num\">4.2.1&nbsp;&nbsp;</span>Numeric data</a></span></li><li><span><a href=\"#Categorical-data\" data-toc-modified-id=\"Categorical-data-4.2.2\"><span class=\"toc-item-num\">4.2.2&nbsp;&nbsp;</span>Categorical data</a></span></li></ul></li><li><span><a href=\"#Checking-for-duplicate-data\" data-toc-modified-id=\"Checking-for-duplicate-data-4.3\"><span class=\"toc-item-num\">4.3&nbsp;&nbsp;</span>Checking for duplicate data</a></span></li></ul></li><li><span><a href=\"#Mapping-waterwell-distribution\" data-toc-modified-id=\"Mapping-waterwell-distribution-5\"><span class=\"toc-item-num\">5&nbsp;&nbsp;</span>Mapping waterwell distribution</a></span></li><li><span><a href=\"#Encoding\" data-toc-modified-id=\"Encoding-6\"><span class=\"toc-item-num\">6&nbsp;&nbsp;</span>Encoding</a></span><ul class=\"toc-item\"><li><span><a href=\"#Label-encoding-approach\" data-toc-modified-id=\"Label-encoding-approach-6.1\"><span class=\"toc-item-num\">6.1&nbsp;&nbsp;</span>Label encoding approach</a></span></li><li><span><a href=\"#One-hot-encoding\" data-toc-modified-id=\"One-hot-encoding-6.2\"><span class=\"toc-item-num\">6.2&nbsp;&nbsp;</span>One-hot encoding</a></span></li></ul></li><li><span><a href=\"#Building-baseline-models\" data-toc-modified-id=\"Building-baseline-models-7\"><span class=\"toc-item-num\">7&nbsp;&nbsp;</span>Building baseline models</a></span><ul class=\"toc-item\"><li><span><a href=\"#Logistic-Regression\" data-toc-modified-id=\"Logistic-Regression-7.1\"><span class=\"toc-item-num\">7.1&nbsp;&nbsp;</span>Logistic Regression</a></span></li><li><span><a href=\"#Decision-Tree\" data-toc-modified-id=\"Decision-Tree-7.2\"><span class=\"toc-item-num\">7.2&nbsp;&nbsp;</span>Decision Tree</a></span></li><li><span><a href=\"#KNN-model\" data-toc-modified-id=\"KNN-model-7.3\"><span class=\"toc-item-num\">7.3&nbsp;&nbsp;</span>KNN model</a></span></li><li><span><a href=\"#Selecting-a-model\" data-toc-modified-id=\"Selecting-a-model-7.4\"><span class=\"toc-item-num\">7.4&nbsp;&nbsp;</span>Selecting a model</a></span></li></ul></li><li><span><a href=\"#Decision-Tree\" data-toc-modified-id=\"Decision-Tree-8\"><span class=\"toc-item-num\">8&nbsp;&nbsp;</span>Decision Tree</a></span><ul class=\"toc-item\"><li><span><a href=\"#Hyperparameter-Tuning\" data-toc-modified-id=\"Hyperparameter-Tuning-8.1\"><span class=\"toc-item-num\">8.1&nbsp;&nbsp;</span>Hyperparameter Tuning</a></span><ul class=\"toc-item\"><li><span><a href=\"#max_depth\" data-toc-modified-id=\"max_depth-8.1.1\"><span class=\"toc-item-num\">8.1.1&nbsp;&nbsp;</span>max_depth</a></span></li><li><span><a href=\"#min_samples_split\" data-toc-modified-id=\"min_samples_split-8.1.2\"><span class=\"toc-item-num\">8.1.2&nbsp;&nbsp;</span>min_samples_split</a></span></li><li><span><a href=\"#min_samples_leaf\" data-toc-modified-id=\"min_samples_leaf-8.1.3\"><span class=\"toc-item-num\">8.1.3&nbsp;&nbsp;</span>min_samples_leaf</a></span></li><li><span><a href=\"#model-with-optimized-parameters\" data-toc-modified-id=\"model-with-optimized-parameters-8.1.4\"><span class=\"toc-item-num\">8.1.4&nbsp;&nbsp;</span>model with optimized parameters</a></span></li></ul></li><li><span><a href=\"#feature_importance\" data-toc-modified-id=\"feature_importance-8.2\"><span class=\"toc-item-num\">8.2&nbsp;&nbsp;</span>feature_importance</a></span><ul class=\"toc-item\"><li><span><a href=\"#extracting-top_10-features\" data-toc-modified-id=\"extracting-top_10-features-8.2.1\"><span class=\"toc-item-num\">8.2.1&nbsp;&nbsp;</span>extracting top_10 features</a></span></li></ul></li><li><span><a href=\"#Decision-Tree-with-the-top10-features\" data-toc-modified-id=\"Decision-Tree-with-the-top10-features-8.3\"><span class=\"toc-item-num\">8.3&nbsp;&nbsp;</span>Decision Tree with the top10 features</a></span><ul class=\"toc-item\"><li><span><a href=\"#GridSearch-CV\" data-toc-modified-id=\"GridSearch-CV-8.3.1\"><span class=\"toc-item-num\">8.3.1&nbsp;&nbsp;</span>GridSearch CV</a></span></li></ul></li></ul></li><li><span><a href=\"#Random-Forest-with-top10-features\" data-toc-modified-id=\"Random-Forest-with-top10-features-9\"><span class=\"toc-item-num\">9&nbsp;&nbsp;</span>Random Forest with top10 features</a></span></li><li><span><a href=\"#Visualize-scores\" data-toc-modified-id=\"Visualize-scores-10\"><span class=\"toc-item-num\">10&nbsp;&nbsp;</span>Visualize scores</a></span></li><li><span><a href=\"#Confusion-Matrix\" data-toc-modified-id=\"Confusion-Matrix-11\"><span class=\"toc-item-num\">11&nbsp;&nbsp;</span>Confusion Matrix</a></span></li><li><span><a href=\"#Random-Forest-with-all-the-features\" data-toc-modified-id=\"Random-Forest-with-all-the-features-12\"><span class=\"toc-item-num\">12&nbsp;&nbsp;</span>Random Forest with all the features</a></span><ul class=\"toc-item\"><li><span><a href=\"#Confusion-matrix\" data-toc-modified-id=\"Confusion-matrix-12.1\"><span class=\"toc-item-num\">12.1&nbsp;&nbsp;</span>Confusion matrix</a></span></li></ul></li><li><span><a href=\"#Examining-the-target-feature\" data-toc-modified-id=\"Examining-the-target-feature-13\"><span class=\"toc-item-num\">13&nbsp;&nbsp;</span>Examining the target feature</a></span><ul class=\"toc-item\"><li><span><a href=\"#Training-a-model-with-a-balanced-data-set\" data-toc-modified-id=\"Training-a-model-with-a-balanced-data-set-13.1\"><span class=\"toc-item-num\">13.1&nbsp;&nbsp;</span>Training a model with a balanced data set</a></span></li><li><span><a href=\"#Gridsearch-CV-of-the-model-trained-on-the-balanced-dataset\" data-toc-modified-id=\"Gridsearch-CV-of-the-model-trained-on-the-balanced-dataset-13.2\"><span class=\"toc-item-num\">13.2&nbsp;&nbsp;</span>Gridsearch CV of the model trained on the balanced dataset</a></span></li></ul></li></ul></div>"
   ]
  },
  {
   "cell_type": "markdown",
   "metadata": {},
   "source": [
    "# Phase3 Project"
   ]
  },
  {
   "cell_type": "markdown",
   "metadata": {},
   "source": [
    "## Business Objective\n",
    "\n",
    "**To help the Goverment of Tanzania monitor the condition of installed waterpumps across the country.Given a set of parameters, the model should be able to predict the status of a waterpump. Status can be as classified as:** \n",
    "1. Functional\n",
    "2. Needs repair\n",
    "3. Does not work \n",
    "    "
   ]
  },
  {
   "cell_type": "markdown",
   "metadata": {},
   "source": [
    "\n",
    "# Dataset"
   ]
  },
  {
   "cell_type": "markdown",
   "metadata": {},
   "source": [
    "Dataset sourced from: https://www.drivendata.org/competitions/7/pump-it-up-data-mining-the-water-table/page/23/"
   ]
  },
  {
   "cell_type": "markdown",
   "metadata": {},
   "source": [
    "# Import libraries"
   ]
  },
  {
   "cell_type": "code",
   "execution_count": 1,
   "metadata": {},
   "outputs": [],
   "source": [
    "import pandas as pd\n",
    "import numpy as np\n",
    "import geopandas as gpd\n",
    "from shapely.geometry import Point, Polygon\n",
    "import seaborn as sns\n",
    "import matplotlib.pyplot as plt\n",
    "from sklearn.preprocessing import LabelEncoder\n",
    "from sklearn.model_selection import train_test_split\n",
    "from sklearn.linear_model import LogisticRegression\n",
    "from sklearn.metrics import classification_report\n",
    "from sklearn.metrics import f1_score,accuracy_score,precision_score,recall_score\n",
    "from sklearn.tree import DecisionTreeClassifier\n",
    "from sklearn.neighbors import KNeighborsClassifier\n",
    "from sklearn.model_selection import GridSearchCV\n",
    "from sklearn.ensemble import RandomForestClassifier\n",
    "from sklearn.metrics import plot_confusion_matrix\n",
    "import warnings\n",
    "warnings.filterwarnings('ignore')"
   ]
  },
  {
   "cell_type": "markdown",
   "metadata": {},
   "source": [
    "# EDA"
   ]
  },
  {
   "cell_type": "code",
   "execution_count": 2,
   "metadata": {},
   "outputs": [
    {
     "data": {
      "text/html": [
       "<div>\n",
       "<style scoped>\n",
       "    .dataframe tbody tr th:only-of-type {\n",
       "        vertical-align: middle;\n",
       "    }\n",
       "\n",
       "    .dataframe tbody tr th {\n",
       "        vertical-align: top;\n",
       "    }\n",
       "\n",
       "    .dataframe thead th {\n",
       "        text-align: right;\n",
       "    }\n",
       "</style>\n",
       "<table border=\"1\" class=\"dataframe\">\n",
       "  <thead>\n",
       "    <tr style=\"text-align: right;\">\n",
       "      <th></th>\n",
       "      <th>id</th>\n",
       "      <th>amount_tsh</th>\n",
       "      <th>date_recorded</th>\n",
       "      <th>funder</th>\n",
       "      <th>gps_height</th>\n",
       "      <th>installer</th>\n",
       "      <th>longitude</th>\n",
       "      <th>latitude</th>\n",
       "      <th>wpt_name</th>\n",
       "      <th>num_private</th>\n",
       "      <th>...</th>\n",
       "      <th>water_quality</th>\n",
       "      <th>quality_group</th>\n",
       "      <th>quantity</th>\n",
       "      <th>quantity_group</th>\n",
       "      <th>source</th>\n",
       "      <th>source_type</th>\n",
       "      <th>source_class</th>\n",
       "      <th>waterpoint_type</th>\n",
       "      <th>waterpoint_type_group</th>\n",
       "      <th>status_group</th>\n",
       "    </tr>\n",
       "  </thead>\n",
       "  <tbody>\n",
       "    <tr>\n",
       "      <th>0</th>\n",
       "      <td>69572</td>\n",
       "      <td>6000.0</td>\n",
       "      <td>3/14/2011</td>\n",
       "      <td>Roman</td>\n",
       "      <td>1390</td>\n",
       "      <td>Roman</td>\n",
       "      <td>34.938093</td>\n",
       "      <td>-9.856322</td>\n",
       "      <td>none</td>\n",
       "      <td>0</td>\n",
       "      <td>...</td>\n",
       "      <td>soft</td>\n",
       "      <td>good</td>\n",
       "      <td>enough</td>\n",
       "      <td>enough</td>\n",
       "      <td>spring</td>\n",
       "      <td>spring</td>\n",
       "      <td>groundwater</td>\n",
       "      <td>communal standpipe</td>\n",
       "      <td>communal standpipe</td>\n",
       "      <td>functional</td>\n",
       "    </tr>\n",
       "    <tr>\n",
       "      <th>1</th>\n",
       "      <td>8776</td>\n",
       "      <td>0.0</td>\n",
       "      <td>3/6/2013</td>\n",
       "      <td>Grumeti</td>\n",
       "      <td>1399</td>\n",
       "      <td>GRUMETI</td>\n",
       "      <td>34.698766</td>\n",
       "      <td>-2.147466</td>\n",
       "      <td>Zahanati</td>\n",
       "      <td>0</td>\n",
       "      <td>...</td>\n",
       "      <td>soft</td>\n",
       "      <td>good</td>\n",
       "      <td>insufficient</td>\n",
       "      <td>insufficient</td>\n",
       "      <td>rainwater harvesting</td>\n",
       "      <td>rainwater harvesting</td>\n",
       "      <td>surface</td>\n",
       "      <td>communal standpipe</td>\n",
       "      <td>communal standpipe</td>\n",
       "      <td>functional</td>\n",
       "    </tr>\n",
       "    <tr>\n",
       "      <th>2</th>\n",
       "      <td>34310</td>\n",
       "      <td>25.0</td>\n",
       "      <td>2/25/2013</td>\n",
       "      <td>Lottery Club</td>\n",
       "      <td>686</td>\n",
       "      <td>World vision</td>\n",
       "      <td>37.460664</td>\n",
       "      <td>-3.821329</td>\n",
       "      <td>Kwa Mahundi</td>\n",
       "      <td>0</td>\n",
       "      <td>...</td>\n",
       "      <td>soft</td>\n",
       "      <td>good</td>\n",
       "      <td>enough</td>\n",
       "      <td>enough</td>\n",
       "      <td>dam</td>\n",
       "      <td>dam</td>\n",
       "      <td>surface</td>\n",
       "      <td>communal standpipe multiple</td>\n",
       "      <td>communal standpipe</td>\n",
       "      <td>functional</td>\n",
       "    </tr>\n",
       "    <tr>\n",
       "      <th>3</th>\n",
       "      <td>67743</td>\n",
       "      <td>0.0</td>\n",
       "      <td>1/28/2013</td>\n",
       "      <td>Unicef</td>\n",
       "      <td>263</td>\n",
       "      <td>UNICEF</td>\n",
       "      <td>38.486161</td>\n",
       "      <td>-11.155298</td>\n",
       "      <td>Zahanati Ya Nanyumbu</td>\n",
       "      <td>0</td>\n",
       "      <td>...</td>\n",
       "      <td>soft</td>\n",
       "      <td>good</td>\n",
       "      <td>dry</td>\n",
       "      <td>dry</td>\n",
       "      <td>machine dbh</td>\n",
       "      <td>borehole</td>\n",
       "      <td>groundwater</td>\n",
       "      <td>communal standpipe multiple</td>\n",
       "      <td>communal standpipe</td>\n",
       "      <td>non functional</td>\n",
       "    </tr>\n",
       "    <tr>\n",
       "      <th>4</th>\n",
       "      <td>19728</td>\n",
       "      <td>0.0</td>\n",
       "      <td>7/13/2011</td>\n",
       "      <td>Action In A</td>\n",
       "      <td>0</td>\n",
       "      <td>Artisan</td>\n",
       "      <td>31.130847</td>\n",
       "      <td>-1.825359</td>\n",
       "      <td>Shuleni</td>\n",
       "      <td>0</td>\n",
       "      <td>...</td>\n",
       "      <td>soft</td>\n",
       "      <td>good</td>\n",
       "      <td>seasonal</td>\n",
       "      <td>seasonal</td>\n",
       "      <td>rainwater harvesting</td>\n",
       "      <td>rainwater harvesting</td>\n",
       "      <td>surface</td>\n",
       "      <td>communal standpipe</td>\n",
       "      <td>communal standpipe</td>\n",
       "      <td>functional</td>\n",
       "    </tr>\n",
       "  </tbody>\n",
       "</table>\n",
       "<p>5 rows × 41 columns</p>\n",
       "</div>"
      ],
      "text/plain": [
       "      id  amount_tsh date_recorded        funder  gps_height     installer  \\\n",
       "0  69572      6000.0     3/14/2011         Roman        1390         Roman   \n",
       "1   8776         0.0      3/6/2013       Grumeti        1399       GRUMETI   \n",
       "2  34310        25.0     2/25/2013  Lottery Club         686  World vision   \n",
       "3  67743         0.0     1/28/2013        Unicef         263        UNICEF   \n",
       "4  19728         0.0     7/13/2011   Action In A           0       Artisan   \n",
       "\n",
       "   longitude   latitude              wpt_name  num_private  ... water_quality  \\\n",
       "0  34.938093  -9.856322                  none            0  ...          soft   \n",
       "1  34.698766  -2.147466              Zahanati            0  ...          soft   \n",
       "2  37.460664  -3.821329           Kwa Mahundi            0  ...          soft   \n",
       "3  38.486161 -11.155298  Zahanati Ya Nanyumbu            0  ...          soft   \n",
       "4  31.130847  -1.825359               Shuleni            0  ...          soft   \n",
       "\n",
       "  quality_group      quantity  quantity_group                source  \\\n",
       "0          good        enough          enough                spring   \n",
       "1          good  insufficient    insufficient  rainwater harvesting   \n",
       "2          good        enough          enough                   dam   \n",
       "3          good           dry             dry           machine dbh   \n",
       "4          good      seasonal        seasonal  rainwater harvesting   \n",
       "\n",
       "            source_type source_class              waterpoint_type  \\\n",
       "0                spring  groundwater           communal standpipe   \n",
       "1  rainwater harvesting      surface           communal standpipe   \n",
       "2                   dam      surface  communal standpipe multiple   \n",
       "3              borehole  groundwater  communal standpipe multiple   \n",
       "4  rainwater harvesting      surface           communal standpipe   \n",
       "\n",
       "  waterpoint_type_group    status_group  \n",
       "0    communal standpipe      functional  \n",
       "1    communal standpipe      functional  \n",
       "2    communal standpipe      functional  \n",
       "3    communal standpipe  non functional  \n",
       "4    communal standpipe      functional  \n",
       "\n",
       "[5 rows x 41 columns]"
      ]
     },
     "execution_count": 2,
     "metadata": {},
     "output_type": "execute_result"
    }
   ],
   "source": [
    "# importing dataset\n",
    "df = pd.read_csv('waterwell.csv')\n",
    "df.head()"
   ]
  },
  {
   "cell_type": "code",
   "execution_count": 3,
   "metadata": {
    "scrolled": true
   },
   "outputs": [
    {
     "name": "stdout",
     "output_type": "stream",
     "text": [
      "<class 'pandas.core.frame.DataFrame'>\n",
      "RangeIndex: 59400 entries, 0 to 59399\n",
      "Data columns (total 41 columns):\n",
      " #   Column                 Non-Null Count  Dtype  \n",
      "---  ------                 --------------  -----  \n",
      " 0   id                     59400 non-null  int64  \n",
      " 1   amount_tsh             59400 non-null  float64\n",
      " 2   date_recorded          59400 non-null  object \n",
      " 3   funder                 55765 non-null  object \n",
      " 4   gps_height             59400 non-null  int64  \n",
      " 5   installer              55745 non-null  object \n",
      " 6   longitude              59400 non-null  float64\n",
      " 7   latitude               59400 non-null  float64\n",
      " 8   wpt_name               59400 non-null  object \n",
      " 9   num_private            59400 non-null  int64  \n",
      " 10  basin                  59400 non-null  object \n",
      " 11  subvillage             59029 non-null  object \n",
      " 12  region                 59400 non-null  object \n",
      " 13  region_code            59400 non-null  int64  \n",
      " 14  district_code          59400 non-null  int64  \n",
      " 15  lga                    59400 non-null  object \n",
      " 16  ward                   59400 non-null  object \n",
      " 17  population             59400 non-null  int64  \n",
      " 18  public_meeting         56066 non-null  object \n",
      " 19  recorded_by            59400 non-null  object \n",
      " 20  scheme_management      55523 non-null  object \n",
      " 21  scheme_name            31234 non-null  object \n",
      " 22  permit                 56344 non-null  object \n",
      " 23  construction_year      59400 non-null  int64  \n",
      " 24  extraction_type        59400 non-null  object \n",
      " 25  extraction_type_group  59400 non-null  object \n",
      " 26  extraction_type_class  59400 non-null  object \n",
      " 27  management             59400 non-null  object \n",
      " 28  management_group       59400 non-null  object \n",
      " 29  payment                59400 non-null  object \n",
      " 30  payment_type           59400 non-null  object \n",
      " 31  water_quality          59400 non-null  object \n",
      " 32  quality_group          59400 non-null  object \n",
      " 33  quantity               59400 non-null  object \n",
      " 34  quantity_group         59400 non-null  object \n",
      " 35  source                 59400 non-null  object \n",
      " 36  source_type            59400 non-null  object \n",
      " 37  source_class           59400 non-null  object \n",
      " 38  waterpoint_type        59400 non-null  object \n",
      " 39  waterpoint_type_group  59400 non-null  object \n",
      " 40  status_group           59400 non-null  object \n",
      "dtypes: float64(3), int64(7), object(31)\n",
      "memory usage: 18.6+ MB\n"
     ]
    }
   ],
   "source": [
    "df.info()"
   ]
  },
  {
   "cell_type": "markdown",
   "metadata": {},
   "source": [
    "## Checking for Null values"
   ]
  },
  {
   "cell_type": "code",
   "execution_count": 4,
   "metadata": {},
   "outputs": [
    {
     "data": {
      "text/plain": [
       "id                           0\n",
       "amount_tsh                   0\n",
       "date_recorded                0\n",
       "funder                    3635\n",
       "gps_height                   0\n",
       "installer                 3655\n",
       "longitude                    0\n",
       "latitude                     0\n",
       "wpt_name                     0\n",
       "num_private                  0\n",
       "basin                        0\n",
       "subvillage                 371\n",
       "region                       0\n",
       "region_code                  0\n",
       "district_code                0\n",
       "lga                          0\n",
       "ward                         0\n",
       "population                   0\n",
       "public_meeting            3334\n",
       "recorded_by                  0\n",
       "scheme_management         3877\n",
       "scheme_name              28166\n",
       "permit                    3056\n",
       "construction_year            0\n",
       "extraction_type              0\n",
       "extraction_type_group        0\n",
       "extraction_type_class        0\n",
       "management                   0\n",
       "management_group             0\n",
       "payment                      0\n",
       "payment_type                 0\n",
       "water_quality                0\n",
       "quality_group                0\n",
       "quantity                     0\n",
       "quantity_group               0\n",
       "source                       0\n",
       "source_type                  0\n",
       "source_class                 0\n",
       "waterpoint_type              0\n",
       "waterpoint_type_group        0\n",
       "status_group                 0\n",
       "dtype: int64"
      ]
     },
     "execution_count": 4,
     "metadata": {},
     "output_type": "execute_result"
    }
   ],
   "source": [
    "# checking for null values and returning it as a pandas series\n",
    "empty=df.isna().sum()\n",
    "empty"
   ]
  },
  {
   "cell_type": "code",
   "execution_count": 5,
   "metadata": {
    "scrolled": true
   },
   "outputs": [
    {
     "data": {
      "text/plain": [
       "['funder',\n",
       " 'installer',\n",
       " 'subvillage',\n",
       " 'public_meeting',\n",
       " 'scheme_management',\n",
       " 'scheme_name',\n",
       " 'permit']"
      ]
     },
     "execution_count": 5,
     "metadata": {},
     "output_type": "execute_result"
    }
   ],
   "source": [
    "#converting the empty series into a dictionary\n",
    "empty_dict = dict(empty)\n",
    "\n",
    "#looping thru dictionary to isolate the columns that have null values\n",
    "empty_list =[]\n",
    "for key,value in empty_dict.items():\n",
    "    if value != 0:\n",
    "        empty_list.append(key)\n",
    "        \n",
    "empty_list\n",
    "# we now have the list of columns that have null values"
   ]
  },
  {
   "cell_type": "code",
   "execution_count": 6,
   "metadata": {},
   "outputs": [
    {
     "data": {
      "text/html": [
       "<div>\n",
       "<style scoped>\n",
       "    .dataframe tbody tr th:only-of-type {\n",
       "        vertical-align: middle;\n",
       "    }\n",
       "\n",
       "    .dataframe tbody tr th {\n",
       "        vertical-align: top;\n",
       "    }\n",
       "\n",
       "    .dataframe thead th {\n",
       "        text-align: right;\n",
       "    }\n",
       "</style>\n",
       "<table border=\"1\" class=\"dataframe\">\n",
       "  <thead>\n",
       "    <tr style=\"text-align: right;\">\n",
       "      <th></th>\n",
       "      <th>funder</th>\n",
       "      <th>installer</th>\n",
       "      <th>subvillage</th>\n",
       "      <th>public_meeting</th>\n",
       "      <th>scheme_management</th>\n",
       "      <th>scheme_name</th>\n",
       "      <th>permit</th>\n",
       "    </tr>\n",
       "  </thead>\n",
       "  <tbody>\n",
       "    <tr>\n",
       "      <th>0</th>\n",
       "      <td>Roman</td>\n",
       "      <td>Roman</td>\n",
       "      <td>Mnyusi B</td>\n",
       "      <td>True</td>\n",
       "      <td>VWC</td>\n",
       "      <td>Roman</td>\n",
       "      <td>False</td>\n",
       "    </tr>\n",
       "    <tr>\n",
       "      <th>1</th>\n",
       "      <td>Grumeti</td>\n",
       "      <td>GRUMETI</td>\n",
       "      <td>Nyamara</td>\n",
       "      <td>NaN</td>\n",
       "      <td>Other</td>\n",
       "      <td>NaN</td>\n",
       "      <td>True</td>\n",
       "    </tr>\n",
       "    <tr>\n",
       "      <th>2</th>\n",
       "      <td>Lottery Club</td>\n",
       "      <td>World vision</td>\n",
       "      <td>Majengo</td>\n",
       "      <td>True</td>\n",
       "      <td>VWC</td>\n",
       "      <td>Nyumba ya mungu pipe scheme</td>\n",
       "      <td>True</td>\n",
       "    </tr>\n",
       "    <tr>\n",
       "      <th>3</th>\n",
       "      <td>Unicef</td>\n",
       "      <td>UNICEF</td>\n",
       "      <td>Mahakamani</td>\n",
       "      <td>True</td>\n",
       "      <td>VWC</td>\n",
       "      <td>NaN</td>\n",
       "      <td>True</td>\n",
       "    </tr>\n",
       "    <tr>\n",
       "      <th>4</th>\n",
       "      <td>Action In A</td>\n",
       "      <td>Artisan</td>\n",
       "      <td>Kyanyamisa</td>\n",
       "      <td>True</td>\n",
       "      <td>NaN</td>\n",
       "      <td>NaN</td>\n",
       "      <td>True</td>\n",
       "    </tr>\n",
       "    <tr>\n",
       "      <th>...</th>\n",
       "      <td>...</td>\n",
       "      <td>...</td>\n",
       "      <td>...</td>\n",
       "      <td>...</td>\n",
       "      <td>...</td>\n",
       "      <td>...</td>\n",
       "      <td>...</td>\n",
       "    </tr>\n",
       "    <tr>\n",
       "      <th>59395</th>\n",
       "      <td>Germany Republi</td>\n",
       "      <td>CES</td>\n",
       "      <td>Kiduruni</td>\n",
       "      <td>True</td>\n",
       "      <td>Water Board</td>\n",
       "      <td>Losaa Kia water supply</td>\n",
       "      <td>True</td>\n",
       "    </tr>\n",
       "    <tr>\n",
       "      <th>59396</th>\n",
       "      <td>Cefa-njombe</td>\n",
       "      <td>Cefa</td>\n",
       "      <td>Igumbilo</td>\n",
       "      <td>True</td>\n",
       "      <td>VWC</td>\n",
       "      <td>Ikondo electrical water sch</td>\n",
       "      <td>True</td>\n",
       "    </tr>\n",
       "    <tr>\n",
       "      <th>59397</th>\n",
       "      <td>NaN</td>\n",
       "      <td>NaN</td>\n",
       "      <td>Madungulu</td>\n",
       "      <td>True</td>\n",
       "      <td>VWC</td>\n",
       "      <td>NaN</td>\n",
       "      <td>False</td>\n",
       "    </tr>\n",
       "    <tr>\n",
       "      <th>59398</th>\n",
       "      <td>Malec</td>\n",
       "      <td>Musa</td>\n",
       "      <td>Mwinyi</td>\n",
       "      <td>True</td>\n",
       "      <td>VWC</td>\n",
       "      <td>NaN</td>\n",
       "      <td>True</td>\n",
       "    </tr>\n",
       "    <tr>\n",
       "      <th>59399</th>\n",
       "      <td>World Bank</td>\n",
       "      <td>World</td>\n",
       "      <td>Kikatanyemba</td>\n",
       "      <td>True</td>\n",
       "      <td>VWC</td>\n",
       "      <td>NaN</td>\n",
       "      <td>True</td>\n",
       "    </tr>\n",
       "  </tbody>\n",
       "</table>\n",
       "<p>59400 rows × 7 columns</p>\n",
       "</div>"
      ],
      "text/plain": [
       "                funder     installer    subvillage public_meeting  \\\n",
       "0                Roman         Roman      Mnyusi B           True   \n",
       "1              Grumeti       GRUMETI       Nyamara            NaN   \n",
       "2         Lottery Club  World vision       Majengo           True   \n",
       "3               Unicef        UNICEF    Mahakamani           True   \n",
       "4          Action In A       Artisan    Kyanyamisa           True   \n",
       "...                ...           ...           ...            ...   \n",
       "59395  Germany Republi           CES      Kiduruni           True   \n",
       "59396      Cefa-njombe          Cefa      Igumbilo           True   \n",
       "59397              NaN           NaN     Madungulu           True   \n",
       "59398            Malec          Musa        Mwinyi           True   \n",
       "59399       World Bank         World  Kikatanyemba           True   \n",
       "\n",
       "      scheme_management                  scheme_name permit  \n",
       "0                   VWC                        Roman  False  \n",
       "1                 Other                          NaN   True  \n",
       "2                   VWC  Nyumba ya mungu pipe scheme   True  \n",
       "3                   VWC                          NaN   True  \n",
       "4                   NaN                          NaN   True  \n",
       "...                 ...                          ...    ...  \n",
       "59395       Water Board       Losaa Kia water supply   True  \n",
       "59396               VWC  Ikondo electrical water sch   True  \n",
       "59397               VWC                          NaN  False  \n",
       "59398               VWC                          NaN   True  \n",
       "59399               VWC                          NaN   True  \n",
       "\n",
       "[59400 rows x 7 columns]"
      ]
     },
     "execution_count": 6,
     "metadata": {},
     "output_type": "execute_result"
    }
   ],
   "source": [
    "# examining those columns\n",
    "df_empty = df[empty_list]\n",
    "df_empty"
   ]
  },
  {
   "cell_type": "code",
   "execution_count": 7,
   "metadata": {},
   "outputs": [
    {
     "name": "stdout",
     "output_type": "stream",
     "text": [
      "<class 'pandas.core.frame.DataFrame'>\n",
      "RangeIndex: 59400 entries, 0 to 59399\n",
      "Data columns (total 7 columns):\n",
      " #   Column             Non-Null Count  Dtype \n",
      "---  ------             --------------  ----- \n",
      " 0   funder             55765 non-null  object\n",
      " 1   installer          55745 non-null  object\n",
      " 2   subvillage         59029 non-null  object\n",
      " 3   public_meeting     56066 non-null  object\n",
      " 4   scheme_management  55523 non-null  object\n",
      " 5   scheme_name        31234 non-null  object\n",
      " 6   permit             56344 non-null  object\n",
      "dtypes: object(7)\n",
      "memory usage: 3.2+ MB\n"
     ]
    }
   ],
   "source": [
    "df_empty.info()"
   ]
  },
  {
   "cell_type": "markdown",
   "metadata": {},
   "source": [
    "We can see that all the columns that have null values are categorical.\n",
    "Also,recall from the original df that total number of rows is 59400"
   ]
  },
  {
   "cell_type": "code",
   "execution_count": 8,
   "metadata": {},
   "outputs": [
    {
     "data": {
      "text/plain": [
       "K                             682\n",
       "None                          644\n",
       "Borehole                      546\n",
       "Chalinze wate                 405\n",
       "M                             400\n",
       "                             ... \n",
       "Mkeyui streem                   1\n",
       "Kima                            1\n",
       "BL Kiungu Chelwa                1\n",
       "TM part Three water supply      1\n",
       "Old mkuu water supply           1\n",
       "Name: scheme_name, Length: 2696, dtype: int64"
      ]
     },
     "execution_count": 8,
     "metadata": {},
     "output_type": "execute_result"
    }
   ],
   "source": [
    "# looking at scheme_name first since it has the highest number of null values\n",
    "df['scheme_name'].value_counts()"
   ]
  },
  {
   "cell_type": "markdown",
   "metadata": {},
   "source": [
    "Since 'scheme_name' has approx. 47% of the data missing, even classifying this as 'missing' \n",
    "might skew the analysis. Hence it's best to remove it from the analysis. "
   ]
  },
  {
   "cell_type": "code",
   "execution_count": 9,
   "metadata": {
    "scrolled": true
   },
   "outputs": [
    {
     "data": {
      "text/html": [
       "<div>\n",
       "<style scoped>\n",
       "    .dataframe tbody tr th:only-of-type {\n",
       "        vertical-align: middle;\n",
       "    }\n",
       "\n",
       "    .dataframe tbody tr th {\n",
       "        vertical-align: top;\n",
       "    }\n",
       "\n",
       "    .dataframe thead th {\n",
       "        text-align: right;\n",
       "    }\n",
       "</style>\n",
       "<table border=\"1\" class=\"dataframe\">\n",
       "  <thead>\n",
       "    <tr style=\"text-align: right;\">\n",
       "      <th></th>\n",
       "      <th>id</th>\n",
       "      <th>amount_tsh</th>\n",
       "      <th>date_recorded</th>\n",
       "      <th>funder</th>\n",
       "      <th>gps_height</th>\n",
       "      <th>installer</th>\n",
       "      <th>longitude</th>\n",
       "      <th>latitude</th>\n",
       "      <th>wpt_name</th>\n",
       "      <th>num_private</th>\n",
       "      <th>...</th>\n",
       "      <th>water_quality</th>\n",
       "      <th>quality_group</th>\n",
       "      <th>quantity</th>\n",
       "      <th>quantity_group</th>\n",
       "      <th>source</th>\n",
       "      <th>source_type</th>\n",
       "      <th>source_class</th>\n",
       "      <th>waterpoint_type</th>\n",
       "      <th>waterpoint_type_group</th>\n",
       "      <th>status_group</th>\n",
       "    </tr>\n",
       "  </thead>\n",
       "  <tbody>\n",
       "    <tr>\n",
       "      <th>0</th>\n",
       "      <td>69572</td>\n",
       "      <td>6000.0</td>\n",
       "      <td>3/14/2011</td>\n",
       "      <td>Roman</td>\n",
       "      <td>1390</td>\n",
       "      <td>Roman</td>\n",
       "      <td>34.938093</td>\n",
       "      <td>-9.856322</td>\n",
       "      <td>none</td>\n",
       "      <td>0</td>\n",
       "      <td>...</td>\n",
       "      <td>soft</td>\n",
       "      <td>good</td>\n",
       "      <td>enough</td>\n",
       "      <td>enough</td>\n",
       "      <td>spring</td>\n",
       "      <td>spring</td>\n",
       "      <td>groundwater</td>\n",
       "      <td>communal standpipe</td>\n",
       "      <td>communal standpipe</td>\n",
       "      <td>functional</td>\n",
       "    </tr>\n",
       "    <tr>\n",
       "      <th>1</th>\n",
       "      <td>8776</td>\n",
       "      <td>0.0</td>\n",
       "      <td>3/6/2013</td>\n",
       "      <td>Grumeti</td>\n",
       "      <td>1399</td>\n",
       "      <td>GRUMETI</td>\n",
       "      <td>34.698766</td>\n",
       "      <td>-2.147466</td>\n",
       "      <td>Zahanati</td>\n",
       "      <td>0</td>\n",
       "      <td>...</td>\n",
       "      <td>soft</td>\n",
       "      <td>good</td>\n",
       "      <td>insufficient</td>\n",
       "      <td>insufficient</td>\n",
       "      <td>rainwater harvesting</td>\n",
       "      <td>rainwater harvesting</td>\n",
       "      <td>surface</td>\n",
       "      <td>communal standpipe</td>\n",
       "      <td>communal standpipe</td>\n",
       "      <td>functional</td>\n",
       "    </tr>\n",
       "    <tr>\n",
       "      <th>2</th>\n",
       "      <td>34310</td>\n",
       "      <td>25.0</td>\n",
       "      <td>2/25/2013</td>\n",
       "      <td>Lottery Club</td>\n",
       "      <td>686</td>\n",
       "      <td>World vision</td>\n",
       "      <td>37.460664</td>\n",
       "      <td>-3.821329</td>\n",
       "      <td>Kwa Mahundi</td>\n",
       "      <td>0</td>\n",
       "      <td>...</td>\n",
       "      <td>soft</td>\n",
       "      <td>good</td>\n",
       "      <td>enough</td>\n",
       "      <td>enough</td>\n",
       "      <td>dam</td>\n",
       "      <td>dam</td>\n",
       "      <td>surface</td>\n",
       "      <td>communal standpipe multiple</td>\n",
       "      <td>communal standpipe</td>\n",
       "      <td>functional</td>\n",
       "    </tr>\n",
       "    <tr>\n",
       "      <th>3</th>\n",
       "      <td>67743</td>\n",
       "      <td>0.0</td>\n",
       "      <td>1/28/2013</td>\n",
       "      <td>Unicef</td>\n",
       "      <td>263</td>\n",
       "      <td>UNICEF</td>\n",
       "      <td>38.486161</td>\n",
       "      <td>-11.155298</td>\n",
       "      <td>Zahanati Ya Nanyumbu</td>\n",
       "      <td>0</td>\n",
       "      <td>...</td>\n",
       "      <td>soft</td>\n",
       "      <td>good</td>\n",
       "      <td>dry</td>\n",
       "      <td>dry</td>\n",
       "      <td>machine dbh</td>\n",
       "      <td>borehole</td>\n",
       "      <td>groundwater</td>\n",
       "      <td>communal standpipe multiple</td>\n",
       "      <td>communal standpipe</td>\n",
       "      <td>non functional</td>\n",
       "    </tr>\n",
       "    <tr>\n",
       "      <th>4</th>\n",
       "      <td>19728</td>\n",
       "      <td>0.0</td>\n",
       "      <td>7/13/2011</td>\n",
       "      <td>Action In A</td>\n",
       "      <td>0</td>\n",
       "      <td>Artisan</td>\n",
       "      <td>31.130847</td>\n",
       "      <td>-1.825359</td>\n",
       "      <td>Shuleni</td>\n",
       "      <td>0</td>\n",
       "      <td>...</td>\n",
       "      <td>soft</td>\n",
       "      <td>good</td>\n",
       "      <td>seasonal</td>\n",
       "      <td>seasonal</td>\n",
       "      <td>rainwater harvesting</td>\n",
       "      <td>rainwater harvesting</td>\n",
       "      <td>surface</td>\n",
       "      <td>communal standpipe</td>\n",
       "      <td>communal standpipe</td>\n",
       "      <td>functional</td>\n",
       "    </tr>\n",
       "  </tbody>\n",
       "</table>\n",
       "<p>5 rows × 41 columns</p>\n",
       "</div>"
      ],
      "text/plain": [
       "      id  amount_tsh date_recorded        funder  gps_height     installer  \\\n",
       "0  69572      6000.0     3/14/2011         Roman        1390         Roman   \n",
       "1   8776         0.0      3/6/2013       Grumeti        1399       GRUMETI   \n",
       "2  34310        25.0     2/25/2013  Lottery Club         686  World vision   \n",
       "3  67743         0.0     1/28/2013        Unicef         263        UNICEF   \n",
       "4  19728         0.0     7/13/2011   Action In A           0       Artisan   \n",
       "\n",
       "   longitude   latitude              wpt_name  num_private  ... water_quality  \\\n",
       "0  34.938093  -9.856322                  none            0  ...          soft   \n",
       "1  34.698766  -2.147466              Zahanati            0  ...          soft   \n",
       "2  37.460664  -3.821329           Kwa Mahundi            0  ...          soft   \n",
       "3  38.486161 -11.155298  Zahanati Ya Nanyumbu            0  ...          soft   \n",
       "4  31.130847  -1.825359               Shuleni            0  ...          soft   \n",
       "\n",
       "  quality_group      quantity  quantity_group                source  \\\n",
       "0          good        enough          enough                spring   \n",
       "1          good  insufficient    insufficient  rainwater harvesting   \n",
       "2          good        enough          enough                   dam   \n",
       "3          good           dry             dry           machine dbh   \n",
       "4          good      seasonal        seasonal  rainwater harvesting   \n",
       "\n",
       "            source_type source_class              waterpoint_type  \\\n",
       "0                spring  groundwater           communal standpipe   \n",
       "1  rainwater harvesting      surface           communal standpipe   \n",
       "2                   dam      surface  communal standpipe multiple   \n",
       "3              borehole  groundwater  communal standpipe multiple   \n",
       "4  rainwater harvesting      surface           communal standpipe   \n",
       "\n",
       "  waterpoint_type_group    status_group  \n",
       "0    communal standpipe      functional  \n",
       "1    communal standpipe      functional  \n",
       "2    communal standpipe      functional  \n",
       "3    communal standpipe  non functional  \n",
       "4    communal standpipe      functional  \n",
       "\n",
       "[5 rows x 41 columns]"
      ]
     },
     "execution_count": 9,
     "metadata": {},
     "output_type": "execute_result"
    }
   ],
   "source": [
    "#creating a copy of df for the analysis\n",
    "df1 =df.copy()\n",
    "df1.head()"
   ]
  },
  {
   "cell_type": "code",
   "execution_count": 10,
   "metadata": {},
   "outputs": [],
   "source": [
    "# removing 'scheme_name' from the df\n",
    "df1.drop('scheme_name',axis=1,inplace=True)"
   ]
  },
  {
   "cell_type": "markdown",
   "metadata": {},
   "source": [
    "Since, the rest of the columns have approx. only 6% of the data missing, we can either choose to drop it\n",
    "or classify it as 'MISSING' for the analysis. Let's classify it as 'MISSING'"
   ]
  },
  {
   "cell_type": "code",
   "execution_count": 11,
   "metadata": {},
   "outputs": [],
   "source": [
    "#replacing the null values as 'MISSING'\n",
    "df1.fillna('MISSING',inplace=True)"
   ]
  },
  {
   "cell_type": "code",
   "execution_count": 12,
   "metadata": {
    "scrolled": false
   },
   "outputs": [
    {
     "name": "stdout",
     "output_type": "stream",
     "text": [
      "<class 'pandas.core.frame.DataFrame'>\n",
      "RangeIndex: 59400 entries, 0 to 59399\n",
      "Data columns (total 40 columns):\n",
      " #   Column                 Non-Null Count  Dtype  \n",
      "---  ------                 --------------  -----  \n",
      " 0   id                     59400 non-null  int64  \n",
      " 1   amount_tsh             59400 non-null  float64\n",
      " 2   date_recorded          59400 non-null  object \n",
      " 3   funder                 59400 non-null  object \n",
      " 4   gps_height             59400 non-null  int64  \n",
      " 5   installer              59400 non-null  object \n",
      " 6   longitude              59400 non-null  float64\n",
      " 7   latitude               59400 non-null  float64\n",
      " 8   wpt_name               59400 non-null  object \n",
      " 9   num_private            59400 non-null  int64  \n",
      " 10  basin                  59400 non-null  object \n",
      " 11  subvillage             59400 non-null  object \n",
      " 12  region                 59400 non-null  object \n",
      " 13  region_code            59400 non-null  int64  \n",
      " 14  district_code          59400 non-null  int64  \n",
      " 15  lga                    59400 non-null  object \n",
      " 16  ward                   59400 non-null  object \n",
      " 17  population             59400 non-null  int64  \n",
      " 18  public_meeting         59400 non-null  object \n",
      " 19  recorded_by            59400 non-null  object \n",
      " 20  scheme_management      59400 non-null  object \n",
      " 21  permit                 59400 non-null  object \n",
      " 22  construction_year      59400 non-null  int64  \n",
      " 23  extraction_type        59400 non-null  object \n",
      " 24  extraction_type_group  59400 non-null  object \n",
      " 25  extraction_type_class  59400 non-null  object \n",
      " 26  management             59400 non-null  object \n",
      " 27  management_group       59400 non-null  object \n",
      " 28  payment                59400 non-null  object \n",
      " 29  payment_type           59400 non-null  object \n",
      " 30  water_quality          59400 non-null  object \n",
      " 31  quality_group          59400 non-null  object \n",
      " 32  quantity               59400 non-null  object \n",
      " 33  quantity_group         59400 non-null  object \n",
      " 34  source                 59400 non-null  object \n",
      " 35  source_type            59400 non-null  object \n",
      " 36  source_class           59400 non-null  object \n",
      " 37  waterpoint_type        59400 non-null  object \n",
      " 38  waterpoint_type_group  59400 non-null  object \n",
      " 39  status_group           59400 non-null  object \n",
      "dtypes: float64(3), int64(7), object(30)\n",
      "memory usage: 18.1+ MB\n"
     ]
    }
   ],
   "source": [
    "# checking the df\n",
    "df1.info()"
   ]
  },
  {
   "cell_type": "markdown",
   "metadata": {},
   "source": [
    "We can see that there no more missing values"
   ]
  },
  {
   "cell_type": "markdown",
   "metadata": {},
   "source": [
    "'functional needs repair' is far less represented as opposed to the other 2 classes.\n",
    "This imbalance might be an avenue for optimization."
   ]
  },
  {
   "cell_type": "markdown",
   "metadata": {},
   "source": [
    "## Checking the datatypes"
   ]
  },
  {
   "cell_type": "code",
   "execution_count": 14,
   "metadata": {},
   "outputs": [
    {
     "data": {
      "text/plain": [
       "object     30\n",
       "int64       7\n",
       "float64     3\n",
       "dtype: int64"
      ]
     },
     "execution_count": 14,
     "metadata": {},
     "output_type": "execute_result"
    }
   ],
   "source": [
    "# examining the data types of the df\n",
    "df1.dtypes.value_counts()"
   ]
  },
  {
   "cell_type": "markdown",
   "metadata": {},
   "source": [
    "We can see that most of the features are categorical"
   ]
  },
  {
   "cell_type": "markdown",
   "metadata": {},
   "source": [
    "### Numeric data"
   ]
  },
  {
   "cell_type": "code",
   "execution_count": 15,
   "metadata": {},
   "outputs": [
    {
     "data": {
      "text/html": [
       "<div>\n",
       "<style scoped>\n",
       "    .dataframe tbody tr th:only-of-type {\n",
       "        vertical-align: middle;\n",
       "    }\n",
       "\n",
       "    .dataframe tbody tr th {\n",
       "        vertical-align: top;\n",
       "    }\n",
       "\n",
       "    .dataframe thead th {\n",
       "        text-align: right;\n",
       "    }\n",
       "</style>\n",
       "<table border=\"1\" class=\"dataframe\">\n",
       "  <thead>\n",
       "    <tr style=\"text-align: right;\">\n",
       "      <th></th>\n",
       "      <th>id</th>\n",
       "      <th>amount_tsh</th>\n",
       "      <th>gps_height</th>\n",
       "      <th>longitude</th>\n",
       "      <th>latitude</th>\n",
       "      <th>num_private</th>\n",
       "      <th>region_code</th>\n",
       "      <th>district_code</th>\n",
       "      <th>population</th>\n",
       "      <th>construction_year</th>\n",
       "    </tr>\n",
       "  </thead>\n",
       "  <tbody>\n",
       "    <tr>\n",
       "      <th>0</th>\n",
       "      <td>69572</td>\n",
       "      <td>6000.0</td>\n",
       "      <td>1390</td>\n",
       "      <td>34.938093</td>\n",
       "      <td>-9.856322</td>\n",
       "      <td>0</td>\n",
       "      <td>11</td>\n",
       "      <td>5</td>\n",
       "      <td>109</td>\n",
       "      <td>1999</td>\n",
       "    </tr>\n",
       "    <tr>\n",
       "      <th>1</th>\n",
       "      <td>8776</td>\n",
       "      <td>0.0</td>\n",
       "      <td>1399</td>\n",
       "      <td>34.698766</td>\n",
       "      <td>-2.147466</td>\n",
       "      <td>0</td>\n",
       "      <td>20</td>\n",
       "      <td>2</td>\n",
       "      <td>280</td>\n",
       "      <td>2010</td>\n",
       "    </tr>\n",
       "    <tr>\n",
       "      <th>2</th>\n",
       "      <td>34310</td>\n",
       "      <td>25.0</td>\n",
       "      <td>686</td>\n",
       "      <td>37.460664</td>\n",
       "      <td>-3.821329</td>\n",
       "      <td>0</td>\n",
       "      <td>21</td>\n",
       "      <td>4</td>\n",
       "      <td>250</td>\n",
       "      <td>2009</td>\n",
       "    </tr>\n",
       "    <tr>\n",
       "      <th>3</th>\n",
       "      <td>67743</td>\n",
       "      <td>0.0</td>\n",
       "      <td>263</td>\n",
       "      <td>38.486161</td>\n",
       "      <td>-11.155298</td>\n",
       "      <td>0</td>\n",
       "      <td>90</td>\n",
       "      <td>63</td>\n",
       "      <td>58</td>\n",
       "      <td>1986</td>\n",
       "    </tr>\n",
       "    <tr>\n",
       "      <th>4</th>\n",
       "      <td>19728</td>\n",
       "      <td>0.0</td>\n",
       "      <td>0</td>\n",
       "      <td>31.130847</td>\n",
       "      <td>-1.825359</td>\n",
       "      <td>0</td>\n",
       "      <td>18</td>\n",
       "      <td>1</td>\n",
       "      <td>0</td>\n",
       "      <td>0</td>\n",
       "    </tr>\n",
       "  </tbody>\n",
       "</table>\n",
       "</div>"
      ],
      "text/plain": [
       "      id  amount_tsh  gps_height  longitude   latitude  num_private  \\\n",
       "0  69572      6000.0        1390  34.938093  -9.856322            0   \n",
       "1   8776         0.0        1399  34.698766  -2.147466            0   \n",
       "2  34310        25.0         686  37.460664  -3.821329            0   \n",
       "3  67743         0.0         263  38.486161 -11.155298            0   \n",
       "4  19728         0.0           0  31.130847  -1.825359            0   \n",
       "\n",
       "   region_code  district_code  population  construction_year  \n",
       "0           11              5         109               1999  \n",
       "1           20              2         280               2010  \n",
       "2           21              4         250               2009  \n",
       "3           90             63          58               1986  \n",
       "4           18              1           0                  0  "
      ]
     },
     "execution_count": 15,
     "metadata": {},
     "output_type": "execute_result"
    }
   ],
   "source": [
    "# looking at the distributions of the numerical data\n",
    "#creating a subset of the numeric data\n",
    "df1_numeric = pd.DataFrame(df1.select_dtypes(include=['int64','float64']))\n",
    "df1_numeric.head()"
   ]
  },
  {
   "cell_type": "markdown",
   "metadata": {},
   "source": [
    "### Categorical data"
   ]
  },
  {
   "cell_type": "markdown",
   "metadata": {},
   "source": [
    "Since we have a large amount of categorical data, applying one-hot encoding to all of them does might result in a lot of redundant data that will affect model performance. Let's explore some of the features and see if we can trim remove some of them."
   ]
  },
  {
   "cell_type": "code",
   "execution_count": 16,
   "metadata": {
    "scrolled": true
   },
   "outputs": [
    {
     "data": {
      "text/html": [
       "<div>\n",
       "<style scoped>\n",
       "    .dataframe tbody tr th:only-of-type {\n",
       "        vertical-align: middle;\n",
       "    }\n",
       "\n",
       "    .dataframe tbody tr th {\n",
       "        vertical-align: top;\n",
       "    }\n",
       "\n",
       "    .dataframe thead th {\n",
       "        text-align: right;\n",
       "    }\n",
       "</style>\n",
       "<table border=\"1\" class=\"dataframe\">\n",
       "  <thead>\n",
       "    <tr style=\"text-align: right;\">\n",
       "      <th></th>\n",
       "      <th>payment</th>\n",
       "      <th>payment_type</th>\n",
       "    </tr>\n",
       "  </thead>\n",
       "  <tbody>\n",
       "    <tr>\n",
       "      <th>0</th>\n",
       "      <td>pay annually</td>\n",
       "      <td>annually</td>\n",
       "    </tr>\n",
       "    <tr>\n",
       "      <th>1</th>\n",
       "      <td>never pay</td>\n",
       "      <td>never pay</td>\n",
       "    </tr>\n",
       "    <tr>\n",
       "      <th>2</th>\n",
       "      <td>pay per bucket</td>\n",
       "      <td>per bucket</td>\n",
       "    </tr>\n",
       "    <tr>\n",
       "      <th>3</th>\n",
       "      <td>never pay</td>\n",
       "      <td>never pay</td>\n",
       "    </tr>\n",
       "    <tr>\n",
       "      <th>4</th>\n",
       "      <td>never pay</td>\n",
       "      <td>never pay</td>\n",
       "    </tr>\n",
       "    <tr>\n",
       "      <th>...</th>\n",
       "      <td>...</td>\n",
       "      <td>...</td>\n",
       "    </tr>\n",
       "    <tr>\n",
       "      <th>59395</th>\n",
       "      <td>pay per bucket</td>\n",
       "      <td>per bucket</td>\n",
       "    </tr>\n",
       "    <tr>\n",
       "      <th>59396</th>\n",
       "      <td>pay annually</td>\n",
       "      <td>annually</td>\n",
       "    </tr>\n",
       "    <tr>\n",
       "      <th>59397</th>\n",
       "      <td>pay monthly</td>\n",
       "      <td>monthly</td>\n",
       "    </tr>\n",
       "    <tr>\n",
       "      <th>59398</th>\n",
       "      <td>never pay</td>\n",
       "      <td>never pay</td>\n",
       "    </tr>\n",
       "    <tr>\n",
       "      <th>59399</th>\n",
       "      <td>pay when scheme fails</td>\n",
       "      <td>on failure</td>\n",
       "    </tr>\n",
       "  </tbody>\n",
       "</table>\n",
       "<p>59400 rows × 2 columns</p>\n",
       "</div>"
      ],
      "text/plain": [
       "                     payment payment_type\n",
       "0               pay annually     annually\n",
       "1                  never pay    never pay\n",
       "2             pay per bucket   per bucket\n",
       "3                  never pay    never pay\n",
       "4                  never pay    never pay\n",
       "...                      ...          ...\n",
       "59395         pay per bucket   per bucket\n",
       "59396           pay annually     annually\n",
       "59397            pay monthly      monthly\n",
       "59398              never pay    never pay\n",
       "59399  pay when scheme fails   on failure\n",
       "\n",
       "[59400 rows x 2 columns]"
      ]
     },
     "execution_count": 16,
     "metadata": {},
     "output_type": "execute_result"
    }
   ],
   "source": [
    "df1[['payment','payment_type']]"
   ]
  },
  {
   "cell_type": "markdown",
   "metadata": {},
   "source": [
    "Since they are the same, we can delete either 'payment' or 'payment_type'"
   ]
  },
  {
   "cell_type": "code",
   "execution_count": 17,
   "metadata": {},
   "outputs": [],
   "source": [
    "#dropping 'payment_type' from the df\n",
    "df1.drop('payment_type',axis=1,inplace=True)"
   ]
  },
  {
   "cell_type": "code",
   "execution_count": 18,
   "metadata": {},
   "outputs": [
    {
     "data": {
      "text/html": [
       "<div>\n",
       "<style scoped>\n",
       "    .dataframe tbody tr th:only-of-type {\n",
       "        vertical-align: middle;\n",
       "    }\n",
       "\n",
       "    .dataframe tbody tr th {\n",
       "        vertical-align: top;\n",
       "    }\n",
       "\n",
       "    .dataframe thead th {\n",
       "        text-align: right;\n",
       "    }\n",
       "</style>\n",
       "<table border=\"1\" class=\"dataframe\">\n",
       "  <thead>\n",
       "    <tr style=\"text-align: right;\">\n",
       "      <th></th>\n",
       "      <th>extraction_type</th>\n",
       "      <th>extraction_type_group</th>\n",
       "      <th>extraction_type_class</th>\n",
       "    </tr>\n",
       "  </thead>\n",
       "  <tbody>\n",
       "    <tr>\n",
       "      <th>0</th>\n",
       "      <td>gravity</td>\n",
       "      <td>gravity</td>\n",
       "      <td>gravity</td>\n",
       "    </tr>\n",
       "    <tr>\n",
       "      <th>1</th>\n",
       "      <td>gravity</td>\n",
       "      <td>gravity</td>\n",
       "      <td>gravity</td>\n",
       "    </tr>\n",
       "    <tr>\n",
       "      <th>2</th>\n",
       "      <td>gravity</td>\n",
       "      <td>gravity</td>\n",
       "      <td>gravity</td>\n",
       "    </tr>\n",
       "    <tr>\n",
       "      <th>3</th>\n",
       "      <td>submersible</td>\n",
       "      <td>submersible</td>\n",
       "      <td>submersible</td>\n",
       "    </tr>\n",
       "    <tr>\n",
       "      <th>4</th>\n",
       "      <td>gravity</td>\n",
       "      <td>gravity</td>\n",
       "      <td>gravity</td>\n",
       "    </tr>\n",
       "    <tr>\n",
       "      <th>...</th>\n",
       "      <td>...</td>\n",
       "      <td>...</td>\n",
       "      <td>...</td>\n",
       "    </tr>\n",
       "    <tr>\n",
       "      <th>59395</th>\n",
       "      <td>gravity</td>\n",
       "      <td>gravity</td>\n",
       "      <td>gravity</td>\n",
       "    </tr>\n",
       "    <tr>\n",
       "      <th>59396</th>\n",
       "      <td>gravity</td>\n",
       "      <td>gravity</td>\n",
       "      <td>gravity</td>\n",
       "    </tr>\n",
       "    <tr>\n",
       "      <th>59397</th>\n",
       "      <td>swn 80</td>\n",
       "      <td>swn 80</td>\n",
       "      <td>handpump</td>\n",
       "    </tr>\n",
       "    <tr>\n",
       "      <th>59398</th>\n",
       "      <td>nira/tanira</td>\n",
       "      <td>nira/tanira</td>\n",
       "      <td>handpump</td>\n",
       "    </tr>\n",
       "    <tr>\n",
       "      <th>59399</th>\n",
       "      <td>nira/tanira</td>\n",
       "      <td>nira/tanira</td>\n",
       "      <td>handpump</td>\n",
       "    </tr>\n",
       "  </tbody>\n",
       "</table>\n",
       "<p>59400 rows × 3 columns</p>\n",
       "</div>"
      ],
      "text/plain": [
       "      extraction_type extraction_type_group extraction_type_class\n",
       "0             gravity               gravity               gravity\n",
       "1             gravity               gravity               gravity\n",
       "2             gravity               gravity               gravity\n",
       "3         submersible           submersible           submersible\n",
       "4             gravity               gravity               gravity\n",
       "...               ...                   ...                   ...\n",
       "59395         gravity               gravity               gravity\n",
       "59396         gravity               gravity               gravity\n",
       "59397          swn 80                swn 80              handpump\n",
       "59398     nira/tanira           nira/tanira              handpump\n",
       "59399     nira/tanira           nira/tanira              handpump\n",
       "\n",
       "[59400 rows x 3 columns]"
      ]
     },
     "execution_count": 18,
     "metadata": {},
     "output_type": "execute_result"
    }
   ],
   "source": [
    "df1[['extraction_type', 'extraction_type_group', 'extraction_type_class']]"
   ]
  },
  {
   "cell_type": "markdown",
   "metadata": {},
   "source": [
    "Again, these are similar and we can chose to eliminate 2 of them from our analysis"
   ]
  },
  {
   "cell_type": "code",
   "execution_count": 19,
   "metadata": {},
   "outputs": [],
   "source": [
    "df1.drop(['extraction_type_group','extraction_type_class'],axis=1,inplace=True)"
   ]
  },
  {
   "cell_type": "code",
   "execution_count": 20,
   "metadata": {},
   "outputs": [
    {
     "data": {
      "text/html": [
       "<div>\n",
       "<style scoped>\n",
       "    .dataframe tbody tr th:only-of-type {\n",
       "        vertical-align: middle;\n",
       "    }\n",
       "\n",
       "    .dataframe tbody tr th {\n",
       "        vertical-align: top;\n",
       "    }\n",
       "\n",
       "    .dataframe thead th {\n",
       "        text-align: right;\n",
       "    }\n",
       "</style>\n",
       "<table border=\"1\" class=\"dataframe\">\n",
       "  <thead>\n",
       "    <tr style=\"text-align: right;\">\n",
       "      <th></th>\n",
       "      <th>management</th>\n",
       "      <th>management_group</th>\n",
       "    </tr>\n",
       "  </thead>\n",
       "  <tbody>\n",
       "    <tr>\n",
       "      <th>0</th>\n",
       "      <td>vwc</td>\n",
       "      <td>user-group</td>\n",
       "    </tr>\n",
       "    <tr>\n",
       "      <th>1</th>\n",
       "      <td>wug</td>\n",
       "      <td>user-group</td>\n",
       "    </tr>\n",
       "    <tr>\n",
       "      <th>2</th>\n",
       "      <td>vwc</td>\n",
       "      <td>user-group</td>\n",
       "    </tr>\n",
       "    <tr>\n",
       "      <th>3</th>\n",
       "      <td>vwc</td>\n",
       "      <td>user-group</td>\n",
       "    </tr>\n",
       "    <tr>\n",
       "      <th>4</th>\n",
       "      <td>other</td>\n",
       "      <td>other</td>\n",
       "    </tr>\n",
       "    <tr>\n",
       "      <th>...</th>\n",
       "      <td>...</td>\n",
       "      <td>...</td>\n",
       "    </tr>\n",
       "    <tr>\n",
       "      <th>59395</th>\n",
       "      <td>water board</td>\n",
       "      <td>user-group</td>\n",
       "    </tr>\n",
       "    <tr>\n",
       "      <th>59396</th>\n",
       "      <td>vwc</td>\n",
       "      <td>user-group</td>\n",
       "    </tr>\n",
       "    <tr>\n",
       "      <th>59397</th>\n",
       "      <td>vwc</td>\n",
       "      <td>user-group</td>\n",
       "    </tr>\n",
       "    <tr>\n",
       "      <th>59398</th>\n",
       "      <td>vwc</td>\n",
       "      <td>user-group</td>\n",
       "    </tr>\n",
       "    <tr>\n",
       "      <th>59399</th>\n",
       "      <td>vwc</td>\n",
       "      <td>user-group</td>\n",
       "    </tr>\n",
       "  </tbody>\n",
       "</table>\n",
       "<p>59400 rows × 2 columns</p>\n",
       "</div>"
      ],
      "text/plain": [
       "        management management_group\n",
       "0              vwc       user-group\n",
       "1              wug       user-group\n",
       "2              vwc       user-group\n",
       "3              vwc       user-group\n",
       "4            other            other\n",
       "...            ...              ...\n",
       "59395  water board       user-group\n",
       "59396          vwc       user-group\n",
       "59397          vwc       user-group\n",
       "59398          vwc       user-group\n",
       "59399          vwc       user-group\n",
       "\n",
       "[59400 rows x 2 columns]"
      ]
     },
     "execution_count": 20,
     "metadata": {},
     "output_type": "execute_result"
    }
   ],
   "source": [
    "df1[['management','management_group']]"
   ]
  },
  {
   "cell_type": "code",
   "execution_count": 21,
   "metadata": {},
   "outputs": [
    {
     "data": {
      "text/plain": [
       "array(['vwc', 'wug', 'other', 'private operator', 'water board', 'wua',\n",
       "       'company', 'water authority', 'parastatal', 'unknown',\n",
       "       'other - school', 'trust'], dtype=object)"
      ]
     },
     "execution_count": 21,
     "metadata": {},
     "output_type": "execute_result"
    }
   ],
   "source": [
    "df1['management'].unique()"
   ]
  },
  {
   "cell_type": "code",
   "execution_count": 22,
   "metadata": {},
   "outputs": [
    {
     "data": {
      "text/plain": [
       "array(['user-group', 'other', 'commercial', 'parastatal', 'unknown'],\n",
       "      dtype=object)"
      ]
     },
     "execution_count": 22,
     "metadata": {},
     "output_type": "execute_result"
    }
   ],
   "source": [
    "df1['management_group'].unique()"
   ]
  },
  {
   "cell_type": "markdown",
   "metadata": {},
   "source": [
    "We can remove 'management_group' since 'management' provides more detail."
   ]
  },
  {
   "cell_type": "code",
   "execution_count": 23,
   "metadata": {},
   "outputs": [],
   "source": [
    "#drop\n",
    "df1.drop('management_group',axis=1,inplace=True)"
   ]
  },
  {
   "cell_type": "code",
   "execution_count": 24,
   "metadata": {},
   "outputs": [
    {
     "data": {
      "text/html": [
       "<div>\n",
       "<style scoped>\n",
       "    .dataframe tbody tr th:only-of-type {\n",
       "        vertical-align: middle;\n",
       "    }\n",
       "\n",
       "    .dataframe tbody tr th {\n",
       "        vertical-align: top;\n",
       "    }\n",
       "\n",
       "    .dataframe thead th {\n",
       "        text-align: right;\n",
       "    }\n",
       "</style>\n",
       "<table border=\"1\" class=\"dataframe\">\n",
       "  <thead>\n",
       "    <tr style=\"text-align: right;\">\n",
       "      <th></th>\n",
       "      <th>source</th>\n",
       "      <th>source_type</th>\n",
       "      <th>source_class</th>\n",
       "    </tr>\n",
       "  </thead>\n",
       "  <tbody>\n",
       "    <tr>\n",
       "      <th>0</th>\n",
       "      <td>spring</td>\n",
       "      <td>spring</td>\n",
       "      <td>groundwater</td>\n",
       "    </tr>\n",
       "    <tr>\n",
       "      <th>1</th>\n",
       "      <td>rainwater harvesting</td>\n",
       "      <td>rainwater harvesting</td>\n",
       "      <td>surface</td>\n",
       "    </tr>\n",
       "    <tr>\n",
       "      <th>2</th>\n",
       "      <td>dam</td>\n",
       "      <td>dam</td>\n",
       "      <td>surface</td>\n",
       "    </tr>\n",
       "    <tr>\n",
       "      <th>3</th>\n",
       "      <td>machine dbh</td>\n",
       "      <td>borehole</td>\n",
       "      <td>groundwater</td>\n",
       "    </tr>\n",
       "    <tr>\n",
       "      <th>4</th>\n",
       "      <td>rainwater harvesting</td>\n",
       "      <td>rainwater harvesting</td>\n",
       "      <td>surface</td>\n",
       "    </tr>\n",
       "    <tr>\n",
       "      <th>...</th>\n",
       "      <td>...</td>\n",
       "      <td>...</td>\n",
       "      <td>...</td>\n",
       "    </tr>\n",
       "    <tr>\n",
       "      <th>59395</th>\n",
       "      <td>spring</td>\n",
       "      <td>spring</td>\n",
       "      <td>groundwater</td>\n",
       "    </tr>\n",
       "    <tr>\n",
       "      <th>59396</th>\n",
       "      <td>river</td>\n",
       "      <td>river/lake</td>\n",
       "      <td>surface</td>\n",
       "    </tr>\n",
       "    <tr>\n",
       "      <th>59397</th>\n",
       "      <td>machine dbh</td>\n",
       "      <td>borehole</td>\n",
       "      <td>groundwater</td>\n",
       "    </tr>\n",
       "    <tr>\n",
       "      <th>59398</th>\n",
       "      <td>shallow well</td>\n",
       "      <td>shallow well</td>\n",
       "      <td>groundwater</td>\n",
       "    </tr>\n",
       "    <tr>\n",
       "      <th>59399</th>\n",
       "      <td>shallow well</td>\n",
       "      <td>shallow well</td>\n",
       "      <td>groundwater</td>\n",
       "    </tr>\n",
       "  </tbody>\n",
       "</table>\n",
       "<p>59400 rows × 3 columns</p>\n",
       "</div>"
      ],
      "text/plain": [
       "                     source           source_type source_class\n",
       "0                    spring                spring  groundwater\n",
       "1      rainwater harvesting  rainwater harvesting      surface\n",
       "2                       dam                   dam      surface\n",
       "3               machine dbh              borehole  groundwater\n",
       "4      rainwater harvesting  rainwater harvesting      surface\n",
       "...                     ...                   ...          ...\n",
       "59395                spring                spring  groundwater\n",
       "59396                 river            river/lake      surface\n",
       "59397           machine dbh              borehole  groundwater\n",
       "59398          shallow well          shallow well  groundwater\n",
       "59399          shallow well          shallow well  groundwater\n",
       "\n",
       "[59400 rows x 3 columns]"
      ]
     },
     "execution_count": 24,
     "metadata": {},
     "output_type": "execute_result"
    }
   ],
   "source": [
    "df1[['source','source_type','source_class']]"
   ]
  },
  {
   "cell_type": "code",
   "execution_count": 25,
   "metadata": {},
   "outputs": [
    {
     "data": {
      "text/plain": [
       "array(['spring', 'rainwater harvesting', 'dam', 'machine dbh', 'other',\n",
       "       'shallow well', 'river', 'hand dtw', 'lake', 'unknown'],\n",
       "      dtype=object)"
      ]
     },
     "execution_count": 25,
     "metadata": {},
     "output_type": "execute_result"
    }
   ],
   "source": [
    "df1['source'].unique()"
   ]
  },
  {
   "cell_type": "code",
   "execution_count": 26,
   "metadata": {},
   "outputs": [
    {
     "data": {
      "text/plain": [
       "array(['spring', 'rainwater harvesting', 'dam', 'borehole', 'other',\n",
       "       'shallow well', 'river/lake'], dtype=object)"
      ]
     },
     "execution_count": 26,
     "metadata": {},
     "output_type": "execute_result"
    }
   ],
   "source": [
    "df1['source_type'].unique()"
   ]
  },
  {
   "cell_type": "code",
   "execution_count": 27,
   "metadata": {},
   "outputs": [
    {
     "data": {
      "text/plain": [
       "array(['groundwater', 'surface', 'unknown'], dtype=object)"
      ]
     },
     "execution_count": 27,
     "metadata": {},
     "output_type": "execute_result"
    }
   ],
   "source": [
    "df1['source_class'].unique()"
   ]
  },
  {
   "cell_type": "markdown",
   "metadata": {},
   "source": [
    "We can choose 'source' over the other two features"
   ]
  },
  {
   "cell_type": "code",
   "execution_count": 28,
   "metadata": {},
   "outputs": [],
   "source": [
    "#drop\n",
    "df1.drop(['source_type','source_class'],axis=1,inplace=True)"
   ]
  },
  {
   "cell_type": "code",
   "execution_count": 29,
   "metadata": {},
   "outputs": [
    {
     "data": {
      "text/html": [
       "<div>\n",
       "<style scoped>\n",
       "    .dataframe tbody tr th:only-of-type {\n",
       "        vertical-align: middle;\n",
       "    }\n",
       "\n",
       "    .dataframe tbody tr th {\n",
       "        vertical-align: top;\n",
       "    }\n",
       "\n",
       "    .dataframe thead th {\n",
       "        text-align: right;\n",
       "    }\n",
       "</style>\n",
       "<table border=\"1\" class=\"dataframe\">\n",
       "  <thead>\n",
       "    <tr style=\"text-align: right;\">\n",
       "      <th></th>\n",
       "      <th>water_quality</th>\n",
       "      <th>quality_group</th>\n",
       "      <th>quantity</th>\n",
       "      <th>quantity_group</th>\n",
       "      <th>waterpoint_type</th>\n",
       "      <th>waterpoint_type_group</th>\n",
       "    </tr>\n",
       "  </thead>\n",
       "  <tbody>\n",
       "    <tr>\n",
       "      <th>0</th>\n",
       "      <td>soft</td>\n",
       "      <td>good</td>\n",
       "      <td>enough</td>\n",
       "      <td>enough</td>\n",
       "      <td>communal standpipe</td>\n",
       "      <td>communal standpipe</td>\n",
       "    </tr>\n",
       "    <tr>\n",
       "      <th>1</th>\n",
       "      <td>soft</td>\n",
       "      <td>good</td>\n",
       "      <td>insufficient</td>\n",
       "      <td>insufficient</td>\n",
       "      <td>communal standpipe</td>\n",
       "      <td>communal standpipe</td>\n",
       "    </tr>\n",
       "    <tr>\n",
       "      <th>2</th>\n",
       "      <td>soft</td>\n",
       "      <td>good</td>\n",
       "      <td>enough</td>\n",
       "      <td>enough</td>\n",
       "      <td>communal standpipe multiple</td>\n",
       "      <td>communal standpipe</td>\n",
       "    </tr>\n",
       "    <tr>\n",
       "      <th>3</th>\n",
       "      <td>soft</td>\n",
       "      <td>good</td>\n",
       "      <td>dry</td>\n",
       "      <td>dry</td>\n",
       "      <td>communal standpipe multiple</td>\n",
       "      <td>communal standpipe</td>\n",
       "    </tr>\n",
       "    <tr>\n",
       "      <th>4</th>\n",
       "      <td>soft</td>\n",
       "      <td>good</td>\n",
       "      <td>seasonal</td>\n",
       "      <td>seasonal</td>\n",
       "      <td>communal standpipe</td>\n",
       "      <td>communal standpipe</td>\n",
       "    </tr>\n",
       "    <tr>\n",
       "      <th>...</th>\n",
       "      <td>...</td>\n",
       "      <td>...</td>\n",
       "      <td>...</td>\n",
       "      <td>...</td>\n",
       "      <td>...</td>\n",
       "      <td>...</td>\n",
       "    </tr>\n",
       "    <tr>\n",
       "      <th>59395</th>\n",
       "      <td>soft</td>\n",
       "      <td>good</td>\n",
       "      <td>enough</td>\n",
       "      <td>enough</td>\n",
       "      <td>communal standpipe</td>\n",
       "      <td>communal standpipe</td>\n",
       "    </tr>\n",
       "    <tr>\n",
       "      <th>59396</th>\n",
       "      <td>soft</td>\n",
       "      <td>good</td>\n",
       "      <td>enough</td>\n",
       "      <td>enough</td>\n",
       "      <td>communal standpipe</td>\n",
       "      <td>communal standpipe</td>\n",
       "    </tr>\n",
       "    <tr>\n",
       "      <th>59397</th>\n",
       "      <td>fluoride</td>\n",
       "      <td>fluoride</td>\n",
       "      <td>enough</td>\n",
       "      <td>enough</td>\n",
       "      <td>hand pump</td>\n",
       "      <td>hand pump</td>\n",
       "    </tr>\n",
       "    <tr>\n",
       "      <th>59398</th>\n",
       "      <td>soft</td>\n",
       "      <td>good</td>\n",
       "      <td>insufficient</td>\n",
       "      <td>insufficient</td>\n",
       "      <td>hand pump</td>\n",
       "      <td>hand pump</td>\n",
       "    </tr>\n",
       "    <tr>\n",
       "      <th>59399</th>\n",
       "      <td>salty</td>\n",
       "      <td>salty</td>\n",
       "      <td>enough</td>\n",
       "      <td>enough</td>\n",
       "      <td>hand pump</td>\n",
       "      <td>hand pump</td>\n",
       "    </tr>\n",
       "  </tbody>\n",
       "</table>\n",
       "<p>59400 rows × 6 columns</p>\n",
       "</div>"
      ],
      "text/plain": [
       "      water_quality quality_group      quantity quantity_group  \\\n",
       "0              soft          good        enough         enough   \n",
       "1              soft          good  insufficient   insufficient   \n",
       "2              soft          good        enough         enough   \n",
       "3              soft          good           dry            dry   \n",
       "4              soft          good      seasonal       seasonal   \n",
       "...             ...           ...           ...            ...   \n",
       "59395          soft          good        enough         enough   \n",
       "59396          soft          good        enough         enough   \n",
       "59397      fluoride      fluoride        enough         enough   \n",
       "59398          soft          good  insufficient   insufficient   \n",
       "59399         salty         salty        enough         enough   \n",
       "\n",
       "                   waterpoint_type waterpoint_type_group  \n",
       "0               communal standpipe    communal standpipe  \n",
       "1               communal standpipe    communal standpipe  \n",
       "2      communal standpipe multiple    communal standpipe  \n",
       "3      communal standpipe multiple    communal standpipe  \n",
       "4               communal standpipe    communal standpipe  \n",
       "...                            ...                   ...  \n",
       "59395           communal standpipe    communal standpipe  \n",
       "59396           communal standpipe    communal standpipe  \n",
       "59397                    hand pump             hand pump  \n",
       "59398                    hand pump             hand pump  \n",
       "59399                    hand pump             hand pump  \n",
       "\n",
       "[59400 rows x 6 columns]"
      ]
     },
     "execution_count": 29,
     "metadata": {},
     "output_type": "execute_result"
    }
   ],
   "source": [
    "df1[['water_quality','quality_group','quantity','quantity_group','waterpoint_type','waterpoint_type_group']]"
   ]
  },
  {
   "cell_type": "code",
   "execution_count": 30,
   "metadata": {},
   "outputs": [
    {
     "data": {
      "text/plain": [
       "array(['soft', 'salty', 'milky', 'unknown', 'fluoride', 'coloured',\n",
       "       'salty abandoned', 'fluoride abandoned'], dtype=object)"
      ]
     },
     "execution_count": 30,
     "metadata": {},
     "output_type": "execute_result"
    }
   ],
   "source": [
    "df1['water_quality'].unique()"
   ]
  },
  {
   "cell_type": "code",
   "execution_count": 31,
   "metadata": {},
   "outputs": [
    {
     "data": {
      "text/plain": [
       "array(['good', 'salty', 'milky', 'unknown', 'fluoride', 'colored'],\n",
       "      dtype=object)"
      ]
     },
     "execution_count": 31,
     "metadata": {},
     "output_type": "execute_result"
    }
   ],
   "source": [
    "df1['quality_group'].unique()"
   ]
  },
  {
   "cell_type": "code",
   "execution_count": 32,
   "metadata": {},
   "outputs": [
    {
     "data": {
      "text/plain": [
       "array(['enough', 'insufficient', 'dry', 'seasonal', 'unknown'],\n",
       "      dtype=object)"
      ]
     },
     "execution_count": 32,
     "metadata": {},
     "output_type": "execute_result"
    }
   ],
   "source": [
    "df1['quantity'].unique()"
   ]
  },
  {
   "cell_type": "code",
   "execution_count": 33,
   "metadata": {},
   "outputs": [
    {
     "data": {
      "text/plain": [
       "array(['enough', 'insufficient', 'dry', 'seasonal', 'unknown'],\n",
       "      dtype=object)"
      ]
     },
     "execution_count": 33,
     "metadata": {},
     "output_type": "execute_result"
    }
   ],
   "source": [
    "df1['quantity_group'].unique()"
   ]
  },
  {
   "cell_type": "code",
   "execution_count": 34,
   "metadata": {},
   "outputs": [
    {
     "data": {
      "text/plain": [
       "array(['communal standpipe', 'communal standpipe multiple', 'hand pump',\n",
       "       'other', 'improved spring', 'cattle trough', 'dam'], dtype=object)"
      ]
     },
     "execution_count": 34,
     "metadata": {},
     "output_type": "execute_result"
    }
   ],
   "source": [
    "df1['waterpoint_type'].unique()"
   ]
  },
  {
   "cell_type": "code",
   "execution_count": 35,
   "metadata": {},
   "outputs": [
    {
     "data": {
      "text/plain": [
       "array(['communal standpipe', 'hand pump', 'other', 'improved spring',\n",
       "       'cattle trough', 'dam'], dtype=object)"
      ]
     },
     "execution_count": 35,
     "metadata": {},
     "output_type": "execute_result"
    }
   ],
   "source": [
    "df1['waterpoint_type_group'].unique()"
   ]
  },
  {
   "cell_type": "code",
   "execution_count": 36,
   "metadata": {},
   "outputs": [
    {
     "name": "stdout",
     "output_type": "stream",
     "text": [
      "<class 'pandas.core.frame.DataFrame'>\n",
      "RangeIndex: 59400 entries, 0 to 59399\n",
      "Data columns (total 31 columns):\n",
      " #   Column             Non-Null Count  Dtype  \n",
      "---  ------             --------------  -----  \n",
      " 0   id                 59400 non-null  int64  \n",
      " 1   amount_tsh         59400 non-null  float64\n",
      " 2   date_recorded      59400 non-null  object \n",
      " 3   funder             59400 non-null  object \n",
      " 4   gps_height         59400 non-null  int64  \n",
      " 5   installer          59400 non-null  object \n",
      " 6   longitude          59400 non-null  float64\n",
      " 7   latitude           59400 non-null  float64\n",
      " 8   wpt_name           59400 non-null  object \n",
      " 9   num_private        59400 non-null  int64  \n",
      " 10  basin              59400 non-null  object \n",
      " 11  subvillage         59400 non-null  object \n",
      " 12  region             59400 non-null  object \n",
      " 13  region_code        59400 non-null  int64  \n",
      " 14  district_code      59400 non-null  int64  \n",
      " 15  lga                59400 non-null  object \n",
      " 16  ward               59400 non-null  object \n",
      " 17  population         59400 non-null  int64  \n",
      " 18  public_meeting     59400 non-null  object \n",
      " 19  recorded_by        59400 non-null  object \n",
      " 20  scheme_management  59400 non-null  object \n",
      " 21  permit             59400 non-null  object \n",
      " 22  construction_year  59400 non-null  int64  \n",
      " 23  extraction_type    59400 non-null  object \n",
      " 24  management         59400 non-null  object \n",
      " 25  payment            59400 non-null  object \n",
      " 26  water_quality      59400 non-null  object \n",
      " 27  quantity           59400 non-null  object \n",
      " 28  source             59400 non-null  object \n",
      " 29  waterpoint_type    59400 non-null  object \n",
      " 30  status_group       59400 non-null  object \n",
      "dtypes: float64(3), int64(7), object(21)\n",
      "memory usage: 14.0+ MB\n"
     ]
    }
   ],
   "source": [
    "#dropping quality_group,quantity_group and waterpoint_type_group\n",
    "df1.drop(['quality_group','waterpoint_type_group','quantity_group'],axis=1,inplace=True)\n",
    "df1.info()"
   ]
  },
  {
   "cell_type": "code",
   "execution_count": 37,
   "metadata": {},
   "outputs": [
    {
     "data": {
      "text/html": [
       "<div>\n",
       "<style scoped>\n",
       "    .dataframe tbody tr th:only-of-type {\n",
       "        vertical-align: middle;\n",
       "    }\n",
       "\n",
       "    .dataframe tbody tr th {\n",
       "        vertical-align: top;\n",
       "    }\n",
       "\n",
       "    .dataframe thead th {\n",
       "        text-align: right;\n",
       "    }\n",
       "</style>\n",
       "<table border=\"1\" class=\"dataframe\">\n",
       "  <thead>\n",
       "    <tr style=\"text-align: right;\">\n",
       "      <th></th>\n",
       "      <th>region</th>\n",
       "      <th>region_code</th>\n",
       "      <th>district_code</th>\n",
       "    </tr>\n",
       "  </thead>\n",
       "  <tbody>\n",
       "    <tr>\n",
       "      <th>0</th>\n",
       "      <td>Iringa</td>\n",
       "      <td>11</td>\n",
       "      <td>5</td>\n",
       "    </tr>\n",
       "    <tr>\n",
       "      <th>1</th>\n",
       "      <td>Mara</td>\n",
       "      <td>20</td>\n",
       "      <td>2</td>\n",
       "    </tr>\n",
       "    <tr>\n",
       "      <th>2</th>\n",
       "      <td>Manyara</td>\n",
       "      <td>21</td>\n",
       "      <td>4</td>\n",
       "    </tr>\n",
       "    <tr>\n",
       "      <th>3</th>\n",
       "      <td>Mtwara</td>\n",
       "      <td>90</td>\n",
       "      <td>63</td>\n",
       "    </tr>\n",
       "    <tr>\n",
       "      <th>4</th>\n",
       "      <td>Kagera</td>\n",
       "      <td>18</td>\n",
       "      <td>1</td>\n",
       "    </tr>\n",
       "    <tr>\n",
       "      <th>...</th>\n",
       "      <td>...</td>\n",
       "      <td>...</td>\n",
       "      <td>...</td>\n",
       "    </tr>\n",
       "    <tr>\n",
       "      <th>59395</th>\n",
       "      <td>Kilimanjaro</td>\n",
       "      <td>3</td>\n",
       "      <td>5</td>\n",
       "    </tr>\n",
       "    <tr>\n",
       "      <th>59396</th>\n",
       "      <td>Iringa</td>\n",
       "      <td>11</td>\n",
       "      <td>4</td>\n",
       "    </tr>\n",
       "    <tr>\n",
       "      <th>59397</th>\n",
       "      <td>Mbeya</td>\n",
       "      <td>12</td>\n",
       "      <td>7</td>\n",
       "    </tr>\n",
       "    <tr>\n",
       "      <th>59398</th>\n",
       "      <td>Dodoma</td>\n",
       "      <td>1</td>\n",
       "      <td>4</td>\n",
       "    </tr>\n",
       "    <tr>\n",
       "      <th>59399</th>\n",
       "      <td>Morogoro</td>\n",
       "      <td>5</td>\n",
       "      <td>2</td>\n",
       "    </tr>\n",
       "  </tbody>\n",
       "</table>\n",
       "<p>59400 rows × 3 columns</p>\n",
       "</div>"
      ],
      "text/plain": [
       "            region  region_code  district_code\n",
       "0           Iringa           11              5\n",
       "1             Mara           20              2\n",
       "2          Manyara           21              4\n",
       "3           Mtwara           90             63\n",
       "4           Kagera           18              1\n",
       "...            ...          ...            ...\n",
       "59395  Kilimanjaro            3              5\n",
       "59396       Iringa           11              4\n",
       "59397        Mbeya           12              7\n",
       "59398       Dodoma            1              4\n",
       "59399     Morogoro            5              2\n",
       "\n",
       "[59400 rows x 3 columns]"
      ]
     },
     "execution_count": 37,
     "metadata": {},
     "output_type": "execute_result"
    }
   ],
   "source": [
    "df1[['region','region_code','district_code']]"
   ]
  },
  {
   "cell_type": "code",
   "execution_count": 38,
   "metadata": {},
   "outputs": [
    {
     "data": {
      "text/plain": [
       "array([True, 'MISSING', False], dtype=object)"
      ]
     },
     "execution_count": 38,
     "metadata": {},
     "output_type": "execute_result"
    }
   ],
   "source": [
    "df1['public_meeting'].unique()"
   ]
  },
  {
   "cell_type": "code",
   "execution_count": 39,
   "metadata": {},
   "outputs": [
    {
     "data": {
      "text/plain": [
       "array(['GeoData Consultants Ltd'], dtype=object)"
      ]
     },
     "execution_count": 39,
     "metadata": {},
     "output_type": "execute_result"
    }
   ],
   "source": [
    "df1['recorded_by'].unique()"
   ]
  },
  {
   "cell_type": "code",
   "execution_count": 40,
   "metadata": {},
   "outputs": [
    {
     "data": {
      "text/plain": [
       "array([   0,   39,    5,   45,    6,    3,  698,   32,   15,    7,   25,\n",
       "        102,    1,   93,   14,   34,  120,   17,  213,   47,    8,   41,\n",
       "         80,  141,   20,   35,  131,    4,   22,   11,   87,   61,   65,\n",
       "        136,    2,  180,   38,   62,    9,   16,   23,   42,   24,   12,\n",
       "        668,  672,   58,  150,  280,  160,   50, 1776,   30,   27,   10,\n",
       "         94,   26,  450,  240,  755,   60,  111,  300,   55, 1402],\n",
       "      dtype=int64)"
      ]
     },
     "execution_count": 40,
     "metadata": {},
     "output_type": "execute_result"
    }
   ],
   "source": [
    "df1['num_private'].unique()"
   ]
  },
  {
   "cell_type": "code",
   "execution_count": 41,
   "metadata": {},
   "outputs": [
    {
     "data": {
      "text/html": [
       "<div>\n",
       "<style scoped>\n",
       "    .dataframe tbody tr th:only-of-type {\n",
       "        vertical-align: middle;\n",
       "    }\n",
       "\n",
       "    .dataframe tbody tr th {\n",
       "        vertical-align: top;\n",
       "    }\n",
       "\n",
       "    .dataframe thead th {\n",
       "        text-align: right;\n",
       "    }\n",
       "</style>\n",
       "<table border=\"1\" class=\"dataframe\">\n",
       "  <thead>\n",
       "    <tr style=\"text-align: right;\">\n",
       "      <th></th>\n",
       "      <th>scheme_management</th>\n",
       "      <th>permit</th>\n",
       "    </tr>\n",
       "  </thead>\n",
       "  <tbody>\n",
       "    <tr>\n",
       "      <th>0</th>\n",
       "      <td>VWC</td>\n",
       "      <td>False</td>\n",
       "    </tr>\n",
       "    <tr>\n",
       "      <th>1</th>\n",
       "      <td>Other</td>\n",
       "      <td>True</td>\n",
       "    </tr>\n",
       "    <tr>\n",
       "      <th>2</th>\n",
       "      <td>VWC</td>\n",
       "      <td>True</td>\n",
       "    </tr>\n",
       "    <tr>\n",
       "      <th>3</th>\n",
       "      <td>VWC</td>\n",
       "      <td>True</td>\n",
       "    </tr>\n",
       "    <tr>\n",
       "      <th>4</th>\n",
       "      <td>MISSING</td>\n",
       "      <td>True</td>\n",
       "    </tr>\n",
       "    <tr>\n",
       "      <th>...</th>\n",
       "      <td>...</td>\n",
       "      <td>...</td>\n",
       "    </tr>\n",
       "    <tr>\n",
       "      <th>59395</th>\n",
       "      <td>Water Board</td>\n",
       "      <td>True</td>\n",
       "    </tr>\n",
       "    <tr>\n",
       "      <th>59396</th>\n",
       "      <td>VWC</td>\n",
       "      <td>True</td>\n",
       "    </tr>\n",
       "    <tr>\n",
       "      <th>59397</th>\n",
       "      <td>VWC</td>\n",
       "      <td>False</td>\n",
       "    </tr>\n",
       "    <tr>\n",
       "      <th>59398</th>\n",
       "      <td>VWC</td>\n",
       "      <td>True</td>\n",
       "    </tr>\n",
       "    <tr>\n",
       "      <th>59399</th>\n",
       "      <td>VWC</td>\n",
       "      <td>True</td>\n",
       "    </tr>\n",
       "  </tbody>\n",
       "</table>\n",
       "<p>59400 rows × 2 columns</p>\n",
       "</div>"
      ],
      "text/plain": [
       "      scheme_management permit\n",
       "0                   VWC  False\n",
       "1                 Other   True\n",
       "2                   VWC   True\n",
       "3                   VWC   True\n",
       "4               MISSING   True\n",
       "...                 ...    ...\n",
       "59395       Water Board   True\n",
       "59396               VWC   True\n",
       "59397               VWC  False\n",
       "59398               VWC   True\n",
       "59399               VWC   True\n",
       "\n",
       "[59400 rows x 2 columns]"
      ]
     },
     "execution_count": 41,
     "metadata": {},
     "output_type": "execute_result"
    }
   ],
   "source": [
    "df1[['scheme_management','permit']]"
   ]
  },
  {
   "cell_type": "code",
   "execution_count": 42,
   "metadata": {},
   "outputs": [
    {
     "data": {
      "text/plain": [
       "array(['VWC', 'Other', 'MISSING', 'Private operator', 'WUG',\n",
       "       'Water Board', 'WUA', 'Water authority', 'Company', 'Parastatal',\n",
       "       'Trust', 'SWC', 'None'], dtype=object)"
      ]
     },
     "execution_count": 42,
     "metadata": {},
     "output_type": "execute_result"
    }
   ],
   "source": [
    "df1['scheme_management'].unique()"
   ]
  },
  {
   "cell_type": "markdown",
   "metadata": {},
   "source": [
    "Looks like 'scheme_management' has the same info as 'management' and hence can be removed"
   ]
  },
  {
   "cell_type": "code",
   "execution_count": 43,
   "metadata": {},
   "outputs": [],
   "source": [
    "#dropping scheme_management\n",
    "df1.drop('scheme_management',axis=1,inplace=True)"
   ]
  },
  {
   "cell_type": "code",
   "execution_count": 44,
   "metadata": {},
   "outputs": [],
   "source": [
    "#dropping id,wpt_name since they will not have a bearing on the analysis\n",
    "df1.drop(['id','wpt_name'],axis=1,inplace=True)"
   ]
  },
  {
   "cell_type": "code",
   "execution_count": 45,
   "metadata": {},
   "outputs": [
    {
     "data": {
      "text/html": [
       "<div>\n",
       "<style scoped>\n",
       "    .dataframe tbody tr th:only-of-type {\n",
       "        vertical-align: middle;\n",
       "    }\n",
       "\n",
       "    .dataframe tbody tr th {\n",
       "        vertical-align: top;\n",
       "    }\n",
       "\n",
       "    .dataframe thead th {\n",
       "        text-align: right;\n",
       "    }\n",
       "</style>\n",
       "<table border=\"1\" class=\"dataframe\">\n",
       "  <thead>\n",
       "    <tr style=\"text-align: right;\">\n",
       "      <th></th>\n",
       "      <th>funder</th>\n",
       "      <th>installer</th>\n",
       "    </tr>\n",
       "  </thead>\n",
       "  <tbody>\n",
       "    <tr>\n",
       "      <th>0</th>\n",
       "      <td>Roman</td>\n",
       "      <td>Roman</td>\n",
       "    </tr>\n",
       "    <tr>\n",
       "      <th>1</th>\n",
       "      <td>Grumeti</td>\n",
       "      <td>GRUMETI</td>\n",
       "    </tr>\n",
       "    <tr>\n",
       "      <th>2</th>\n",
       "      <td>Lottery Club</td>\n",
       "      <td>World vision</td>\n",
       "    </tr>\n",
       "    <tr>\n",
       "      <th>3</th>\n",
       "      <td>Unicef</td>\n",
       "      <td>UNICEF</td>\n",
       "    </tr>\n",
       "    <tr>\n",
       "      <th>4</th>\n",
       "      <td>Action In A</td>\n",
       "      <td>Artisan</td>\n",
       "    </tr>\n",
       "    <tr>\n",
       "      <th>...</th>\n",
       "      <td>...</td>\n",
       "      <td>...</td>\n",
       "    </tr>\n",
       "    <tr>\n",
       "      <th>59395</th>\n",
       "      <td>Germany Republi</td>\n",
       "      <td>CES</td>\n",
       "    </tr>\n",
       "    <tr>\n",
       "      <th>59396</th>\n",
       "      <td>Cefa-njombe</td>\n",
       "      <td>Cefa</td>\n",
       "    </tr>\n",
       "    <tr>\n",
       "      <th>59397</th>\n",
       "      <td>MISSING</td>\n",
       "      <td>MISSING</td>\n",
       "    </tr>\n",
       "    <tr>\n",
       "      <th>59398</th>\n",
       "      <td>Malec</td>\n",
       "      <td>Musa</td>\n",
       "    </tr>\n",
       "    <tr>\n",
       "      <th>59399</th>\n",
       "      <td>World Bank</td>\n",
       "      <td>World</td>\n",
       "    </tr>\n",
       "  </tbody>\n",
       "</table>\n",
       "<p>59400 rows × 2 columns</p>\n",
       "</div>"
      ],
      "text/plain": [
       "                funder     installer\n",
       "0                Roman         Roman\n",
       "1              Grumeti       GRUMETI\n",
       "2         Lottery Club  World vision\n",
       "3               Unicef        UNICEF\n",
       "4          Action In A       Artisan\n",
       "...                ...           ...\n",
       "59395  Germany Republi           CES\n",
       "59396      Cefa-njombe          Cefa\n",
       "59397          MISSING       MISSING\n",
       "59398            Malec          Musa\n",
       "59399       World Bank         World\n",
       "\n",
       "[59400 rows x 2 columns]"
      ]
     },
     "execution_count": 45,
     "metadata": {},
     "output_type": "execute_result"
    }
   ],
   "source": [
    "df1[['funder','installer']]"
   ]
  },
  {
   "cell_type": "markdown",
   "metadata": {},
   "source": [
    "## Checking for duplicate data"
   ]
  },
  {
   "cell_type": "code",
   "execution_count": 46,
   "metadata": {
    "scrolled": true
   },
   "outputs": [
    {
     "data": {
      "text/html": [
       "<div>\n",
       "<style scoped>\n",
       "    .dataframe tbody tr th:only-of-type {\n",
       "        vertical-align: middle;\n",
       "    }\n",
       "\n",
       "    .dataframe tbody tr th {\n",
       "        vertical-align: top;\n",
       "    }\n",
       "\n",
       "    .dataframe thead th {\n",
       "        text-align: right;\n",
       "    }\n",
       "</style>\n",
       "<table border=\"1\" class=\"dataframe\">\n",
       "  <thead>\n",
       "    <tr style=\"text-align: right;\">\n",
       "      <th></th>\n",
       "      <th>id</th>\n",
       "      <th>amount_tsh</th>\n",
       "      <th>date_recorded</th>\n",
       "      <th>funder</th>\n",
       "      <th>gps_height</th>\n",
       "      <th>installer</th>\n",
       "      <th>longitude</th>\n",
       "      <th>latitude</th>\n",
       "      <th>wpt_name</th>\n",
       "      <th>num_private</th>\n",
       "      <th>...</th>\n",
       "      <th>water_quality</th>\n",
       "      <th>quality_group</th>\n",
       "      <th>quantity</th>\n",
       "      <th>quantity_group</th>\n",
       "      <th>source</th>\n",
       "      <th>source_type</th>\n",
       "      <th>source_class</th>\n",
       "      <th>waterpoint_type</th>\n",
       "      <th>waterpoint_type_group</th>\n",
       "      <th>status_group</th>\n",
       "    </tr>\n",
       "  </thead>\n",
       "  <tbody>\n",
       "    <tr>\n",
       "      <th>370</th>\n",
       "      <td>59310</td>\n",
       "      <td>0.0</td>\n",
       "      <td>7/18/2011</td>\n",
       "      <td>Government Of Tanzania</td>\n",
       "      <td>0</td>\n",
       "      <td>Government</td>\n",
       "      <td>0.0</td>\n",
       "      <td>-2.000000e-08</td>\n",
       "      <td>Nesrsing College</td>\n",
       "      <td>0</td>\n",
       "      <td>...</td>\n",
       "      <td>soft</td>\n",
       "      <td>good</td>\n",
       "      <td>insufficient</td>\n",
       "      <td>insufficient</td>\n",
       "      <td>machine dbh</td>\n",
       "      <td>borehole</td>\n",
       "      <td>groundwater</td>\n",
       "      <td>communal standpipe</td>\n",
       "      <td>communal standpipe</td>\n",
       "      <td>functional</td>\n",
       "    </tr>\n",
       "    <tr>\n",
       "      <th>2634</th>\n",
       "      <td>26938</td>\n",
       "      <td>0.0</td>\n",
       "      <td>8/22/2011</td>\n",
       "      <td>Government Of Tanzania</td>\n",
       "      <td>0</td>\n",
       "      <td>DWE</td>\n",
       "      <td>0.0</td>\n",
       "      <td>-2.000000e-08</td>\n",
       "      <td>Mahakamani</td>\n",
       "      <td>0</td>\n",
       "      <td>...</td>\n",
       "      <td>soft</td>\n",
       "      <td>good</td>\n",
       "      <td>insufficient</td>\n",
       "      <td>insufficient</td>\n",
       "      <td>machine dbh</td>\n",
       "      <td>borehole</td>\n",
       "      <td>groundwater</td>\n",
       "      <td>communal standpipe multiple</td>\n",
       "      <td>communal standpipe</td>\n",
       "      <td>non functional</td>\n",
       "    </tr>\n",
       "    <tr>\n",
       "      <th>5563</th>\n",
       "      <td>30389</td>\n",
       "      <td>0.0</td>\n",
       "      <td>8/22/2011</td>\n",
       "      <td>Government Of Tanzania</td>\n",
       "      <td>0</td>\n",
       "      <td>DWE</td>\n",
       "      <td>0.0</td>\n",
       "      <td>-2.000000e-08</td>\n",
       "      <td>Sokoni</td>\n",
       "      <td>0</td>\n",
       "      <td>...</td>\n",
       "      <td>soft</td>\n",
       "      <td>good</td>\n",
       "      <td>insufficient</td>\n",
       "      <td>insufficient</td>\n",
       "      <td>machine dbh</td>\n",
       "      <td>borehole</td>\n",
       "      <td>groundwater</td>\n",
       "      <td>communal standpipe multiple</td>\n",
       "      <td>communal standpipe</td>\n",
       "      <td>non functional</td>\n",
       "    </tr>\n",
       "    <tr>\n",
       "      <th>6218</th>\n",
       "      <td>4377</td>\n",
       "      <td>0.0</td>\n",
       "      <td>12/11/2012</td>\n",
       "      <td>Government Of Tanzania</td>\n",
       "      <td>0</td>\n",
       "      <td>RWE</td>\n",
       "      <td>0.0</td>\n",
       "      <td>-2.000000e-08</td>\n",
       "      <td>Kwanyanda</td>\n",
       "      <td>0</td>\n",
       "      <td>...</td>\n",
       "      <td>soft</td>\n",
       "      <td>good</td>\n",
       "      <td>insufficient</td>\n",
       "      <td>insufficient</td>\n",
       "      <td>lake</td>\n",
       "      <td>river/lake</td>\n",
       "      <td>surface</td>\n",
       "      <td>communal standpipe</td>\n",
       "      <td>communal standpipe</td>\n",
       "      <td>non functional</td>\n",
       "    </tr>\n",
       "    <tr>\n",
       "      <th>7709</th>\n",
       "      <td>23184</td>\n",
       "      <td>0.0</td>\n",
       "      <td>2/16/2013</td>\n",
       "      <td>Dwsp</td>\n",
       "      <td>0</td>\n",
       "      <td>DWE</td>\n",
       "      <td>0.0</td>\n",
       "      <td>-2.000000e-08</td>\n",
       "      <td>Sango</td>\n",
       "      <td>0</td>\n",
       "      <td>...</td>\n",
       "      <td>soft</td>\n",
       "      <td>good</td>\n",
       "      <td>enough</td>\n",
       "      <td>enough</td>\n",
       "      <td>shallow well</td>\n",
       "      <td>shallow well</td>\n",
       "      <td>groundwater</td>\n",
       "      <td>hand pump</td>\n",
       "      <td>hand pump</td>\n",
       "      <td>functional</td>\n",
       "    </tr>\n",
       "    <tr>\n",
       "      <th>...</th>\n",
       "      <td>...</td>\n",
       "      <td>...</td>\n",
       "      <td>...</td>\n",
       "      <td>...</td>\n",
       "      <td>...</td>\n",
       "      <td>...</td>\n",
       "      <td>...</td>\n",
       "      <td>...</td>\n",
       "      <td>...</td>\n",
       "      <td>...</td>\n",
       "      <td>...</td>\n",
       "      <td>...</td>\n",
       "      <td>...</td>\n",
       "      <td>...</td>\n",
       "      <td>...</td>\n",
       "      <td>...</td>\n",
       "      <td>...</td>\n",
       "      <td>...</td>\n",
       "      <td>...</td>\n",
       "      <td>...</td>\n",
       "      <td>...</td>\n",
       "    </tr>\n",
       "    <tr>\n",
       "      <th>57662</th>\n",
       "      <td>47039</td>\n",
       "      <td>0.0</td>\n",
       "      <td>10/25/2012</td>\n",
       "      <td>Dwsp</td>\n",
       "      <td>0</td>\n",
       "      <td>DWE</td>\n",
       "      <td>0.0</td>\n",
       "      <td>-2.000000e-08</td>\n",
       "      <td>Inonelwa</td>\n",
       "      <td>0</td>\n",
       "      <td>...</td>\n",
       "      <td>soft</td>\n",
       "      <td>good</td>\n",
       "      <td>enough</td>\n",
       "      <td>enough</td>\n",
       "      <td>shallow well</td>\n",
       "      <td>shallow well</td>\n",
       "      <td>groundwater</td>\n",
       "      <td>hand pump</td>\n",
       "      <td>hand pump</td>\n",
       "      <td>functional</td>\n",
       "    </tr>\n",
       "    <tr>\n",
       "      <th>57807</th>\n",
       "      <td>49622</td>\n",
       "      <td>0.0</td>\n",
       "      <td>8/26/2011</td>\n",
       "      <td>Government Of Tanzania</td>\n",
       "      <td>0</td>\n",
       "      <td>Government</td>\n",
       "      <td>0.0</td>\n",
       "      <td>-2.000000e-08</td>\n",
       "      <td>Makoye</td>\n",
       "      <td>0</td>\n",
       "      <td>...</td>\n",
       "      <td>unknown</td>\n",
       "      <td>unknown</td>\n",
       "      <td>dry</td>\n",
       "      <td>dry</td>\n",
       "      <td>lake</td>\n",
       "      <td>river/lake</td>\n",
       "      <td>surface</td>\n",
       "      <td>communal standpipe multiple</td>\n",
       "      <td>communal standpipe</td>\n",
       "      <td>non functional</td>\n",
       "    </tr>\n",
       "    <tr>\n",
       "      <th>58463</th>\n",
       "      <td>1562</td>\n",
       "      <td>0.0</td>\n",
       "      <td>2/16/2013</td>\n",
       "      <td>Dwsp</td>\n",
       "      <td>0</td>\n",
       "      <td>DWE</td>\n",
       "      <td>0.0</td>\n",
       "      <td>-2.000000e-08</td>\n",
       "      <td>Igolola</td>\n",
       "      <td>0</td>\n",
       "      <td>...</td>\n",
       "      <td>soft</td>\n",
       "      <td>good</td>\n",
       "      <td>enough</td>\n",
       "      <td>enough</td>\n",
       "      <td>shallow well</td>\n",
       "      <td>shallow well</td>\n",
       "      <td>groundwater</td>\n",
       "      <td>hand pump</td>\n",
       "      <td>hand pump</td>\n",
       "      <td>functional</td>\n",
       "    </tr>\n",
       "    <tr>\n",
       "      <th>58859</th>\n",
       "      <td>63207</td>\n",
       "      <td>0.0</td>\n",
       "      <td>10/26/2012</td>\n",
       "      <td>Lwi</td>\n",
       "      <td>0</td>\n",
       "      <td>LWI</td>\n",
       "      <td>0.0</td>\n",
       "      <td>-2.000000e-08</td>\n",
       "      <td>Msituni</td>\n",
       "      <td>0</td>\n",
       "      <td>...</td>\n",
       "      <td>soft</td>\n",
       "      <td>good</td>\n",
       "      <td>enough</td>\n",
       "      <td>enough</td>\n",
       "      <td>shallow well</td>\n",
       "      <td>shallow well</td>\n",
       "      <td>groundwater</td>\n",
       "      <td>hand pump</td>\n",
       "      <td>hand pump</td>\n",
       "      <td>functional</td>\n",
       "    </tr>\n",
       "    <tr>\n",
       "      <th>59166</th>\n",
       "      <td>52986</td>\n",
       "      <td>0.0</td>\n",
       "      <td>1/22/2013</td>\n",
       "      <td>World Vision</td>\n",
       "      <td>0</td>\n",
       "      <td>World Vision</td>\n",
       "      <td>0.0</td>\n",
       "      <td>-2.000000e-08</td>\n",
       "      <td>Shule Ya Msingi Mwakilangi</td>\n",
       "      <td>0</td>\n",
       "      <td>...</td>\n",
       "      <td>soft</td>\n",
       "      <td>good</td>\n",
       "      <td>enough</td>\n",
       "      <td>enough</td>\n",
       "      <td>shallow well</td>\n",
       "      <td>shallow well</td>\n",
       "      <td>groundwater</td>\n",
       "      <td>hand pump</td>\n",
       "      <td>hand pump</td>\n",
       "      <td>functional</td>\n",
       "    </tr>\n",
       "  </tbody>\n",
       "</table>\n",
       "<p>141 rows × 41 columns</p>\n",
       "</div>"
      ],
      "text/plain": [
       "          id  amount_tsh date_recorded                  funder  gps_height  \\\n",
       "370    59310         0.0     7/18/2011  Government Of Tanzania           0   \n",
       "2634   26938         0.0     8/22/2011  Government Of Tanzania           0   \n",
       "5563   30389         0.0     8/22/2011  Government Of Tanzania           0   \n",
       "6218    4377         0.0    12/11/2012  Government Of Tanzania           0   \n",
       "7709   23184         0.0     2/16/2013                    Dwsp           0   \n",
       "...      ...         ...           ...                     ...         ...   \n",
       "57662  47039         0.0    10/25/2012                    Dwsp           0   \n",
       "57807  49622         0.0     8/26/2011  Government Of Tanzania           0   \n",
       "58463   1562         0.0     2/16/2013                    Dwsp           0   \n",
       "58859  63207         0.0    10/26/2012                     Lwi           0   \n",
       "59166  52986         0.0     1/22/2013            World Vision           0   \n",
       "\n",
       "          installer  longitude      latitude                    wpt_name  \\\n",
       "370      Government        0.0 -2.000000e-08            Nesrsing College   \n",
       "2634            DWE        0.0 -2.000000e-08                  Mahakamani   \n",
       "5563            DWE        0.0 -2.000000e-08                      Sokoni   \n",
       "6218            RWE        0.0 -2.000000e-08                   Kwanyanda   \n",
       "7709            DWE        0.0 -2.000000e-08                       Sango   \n",
       "...             ...        ...           ...                         ...   \n",
       "57662           DWE        0.0 -2.000000e-08                    Inonelwa   \n",
       "57807    Government        0.0 -2.000000e-08                      Makoye   \n",
       "58463           DWE        0.0 -2.000000e-08                     Igolola   \n",
       "58859           LWI        0.0 -2.000000e-08                     Msituni   \n",
       "59166  World Vision        0.0 -2.000000e-08  Shule Ya Msingi Mwakilangi   \n",
       "\n",
       "       num_private  ... water_quality quality_group      quantity  \\\n",
       "370              0  ...          soft          good  insufficient   \n",
       "2634             0  ...          soft          good  insufficient   \n",
       "5563             0  ...          soft          good  insufficient   \n",
       "6218             0  ...          soft          good  insufficient   \n",
       "7709             0  ...          soft          good        enough   \n",
       "...            ...  ...           ...           ...           ...   \n",
       "57662            0  ...          soft          good        enough   \n",
       "57807            0  ...       unknown       unknown           dry   \n",
       "58463            0  ...          soft          good        enough   \n",
       "58859            0  ...          soft          good        enough   \n",
       "59166            0  ...          soft          good        enough   \n",
       "\n",
       "       quantity_group        source   source_type source_class  \\\n",
       "370      insufficient   machine dbh      borehole  groundwater   \n",
       "2634     insufficient   machine dbh      borehole  groundwater   \n",
       "5563     insufficient   machine dbh      borehole  groundwater   \n",
       "6218     insufficient          lake    river/lake      surface   \n",
       "7709           enough  shallow well  shallow well  groundwater   \n",
       "...               ...           ...           ...          ...   \n",
       "57662          enough  shallow well  shallow well  groundwater   \n",
       "57807             dry          lake    river/lake      surface   \n",
       "58463          enough  shallow well  shallow well  groundwater   \n",
       "58859          enough  shallow well  shallow well  groundwater   \n",
       "59166          enough  shallow well  shallow well  groundwater   \n",
       "\n",
       "                   waterpoint_type waterpoint_type_group    status_group  \n",
       "370             communal standpipe    communal standpipe      functional  \n",
       "2634   communal standpipe multiple    communal standpipe  non functional  \n",
       "5563   communal standpipe multiple    communal standpipe  non functional  \n",
       "6218            communal standpipe    communal standpipe  non functional  \n",
       "7709                     hand pump             hand pump      functional  \n",
       "...                            ...                   ...             ...  \n",
       "57662                    hand pump             hand pump      functional  \n",
       "57807  communal standpipe multiple    communal standpipe  non functional  \n",
       "58463                    hand pump             hand pump      functional  \n",
       "58859                    hand pump             hand pump      functional  \n",
       "59166                    hand pump             hand pump      functional  \n",
       "\n",
       "[141 rows x 41 columns]"
      ]
     },
     "execution_count": 46,
     "metadata": {},
     "output_type": "execute_result"
    }
   ],
   "source": [
    "#checking for duplicate data based on all the columns\n",
    "df[df1.duplicated()]"
   ]
  },
  {
   "cell_type": "markdown",
   "metadata": {},
   "source": [
    "We can that there are 36 rows of duplicate data. We can remove them from the dataset"
   ]
  },
  {
   "cell_type": "code",
   "execution_count": 47,
   "metadata": {},
   "outputs": [
    {
     "name": "stdout",
     "output_type": "stream",
     "text": [
      "<class 'pandas.core.frame.DataFrame'>\n",
      "Int64Index: 59259 entries, 0 to 59399\n",
      "Data columns (total 28 columns):\n",
      " #   Column             Non-Null Count  Dtype  \n",
      "---  ------             --------------  -----  \n",
      " 0   amount_tsh         59259 non-null  float64\n",
      " 1   date_recorded      59259 non-null  object \n",
      " 2   funder             59259 non-null  object \n",
      " 3   gps_height         59259 non-null  int64  \n",
      " 4   installer          59259 non-null  object \n",
      " 5   longitude          59259 non-null  float64\n",
      " 6   latitude           59259 non-null  float64\n",
      " 7   num_private        59259 non-null  int64  \n",
      " 8   basin              59259 non-null  object \n",
      " 9   subvillage         59259 non-null  object \n",
      " 10  region             59259 non-null  object \n",
      " 11  region_code        59259 non-null  int64  \n",
      " 12  district_code      59259 non-null  int64  \n",
      " 13  lga                59259 non-null  object \n",
      " 14  ward               59259 non-null  object \n",
      " 15  population         59259 non-null  int64  \n",
      " 16  public_meeting     59259 non-null  object \n",
      " 17  recorded_by        59259 non-null  object \n",
      " 18  permit             59259 non-null  object \n",
      " 19  construction_year  59259 non-null  int64  \n",
      " 20  extraction_type    59259 non-null  object \n",
      " 21  management         59259 non-null  object \n",
      " 22  payment            59259 non-null  object \n",
      " 23  water_quality      59259 non-null  object \n",
      " 24  quantity           59259 non-null  object \n",
      " 25  source             59259 non-null  object \n",
      " 26  waterpoint_type    59259 non-null  object \n",
      " 27  status_group       59259 non-null  object \n",
      "dtypes: float64(3), int64(6), object(19)\n",
      "memory usage: 13.1+ MB\n"
     ]
    }
   ],
   "source": [
    "#removing duplicates\n",
    "df1.drop_duplicates(inplace=True,keep='first')\n",
    "df1.info() "
   ]
  },
  {
   "cell_type": "markdown",
   "metadata": {},
   "source": [
    "We now have a dataset that in has no null and duplicate values."
   ]
  },
  {
   "cell_type": "code",
   "execution_count": 48,
   "metadata": {},
   "outputs": [
    {
     "data": {
      "text/plain": [
       "functional                 32186\n",
       "non functional             22765\n",
       "functional needs repair     4308\n",
       "Name: status_group, dtype: int64"
      ]
     },
     "execution_count": 48,
     "metadata": {},
     "output_type": "execute_result"
    }
   ],
   "source": [
    "df1['status_group'].value_counts()"
   ]
  },
  {
   "cell_type": "markdown",
   "metadata": {},
   "source": [
    "# Mapping waterwell distribution"
   ]
  },
  {
   "cell_type": "code",
   "execution_count": 49,
   "metadata": {},
   "outputs": [
    {
     "data": {
      "image/png": "[encoded data removed]",
      "text/plain": [
       "<Figure size 720x720 with 1 Axes>"
      ]
     },
     "metadata": {
      "needs_background": "light"
     },
     "output_type": "display_data"
    }
   ],
   "source": [
    "#create a new df \n",
    "mapdf = df1.copy()\n",
    "\n",
    "#filter out the longitude values \n",
    "mapdf = mapdf[mapdf['longitude'] > 0]\n",
    "\n",
    "#read the shape file with geopandas\n",
    "tanzania_map = gpd.read_file('Districts and TC as 2020.shp')\n",
    "# tanzania_map.plot(color='lightgrey',figsize=(8,8)); just look at the map of tanzania if you want to\n",
    "\n",
    "crs = {'init':'EPSG:4326'} #define CRS\n",
    "geometry = [Point(xy) for xy in zip(mapdf['longitude'], df['latitude'])] #create Points\n",
    "geo_df = gpd.GeoDataFrame(mapdf, \n",
    "                          crs = crs, \n",
    "                          geometry = geometry) #define the geometry df\n",
    "\n",
    "#plot the data\n",
    "fig, ax = plt.subplots(figsize = (10,10))\n",
    "tanzania_map.to_crs(epsg=4326).plot(ax=ax, color='lightgrey')\n",
    "sns.scatterplot(x=\"longitude\", y=\"latitude\",data=mapdf,hue='status_group',ax=ax);\n",
    "ax.set_title('Distribution of Waterwells in Tanzania');"
   ]
  },
  {
   "cell_type": "markdown",
   "metadata": {},
   "source": [
    "# Encoding"
   ]
  },
  {
   "cell_type": "code",
   "execution_count": 50,
   "metadata": {},
   "outputs": [
    {
     "name": "stdout",
     "output_type": "stream",
     "text": [
      "<class 'pandas.core.frame.DataFrame'>\n",
      "Int64Index: 59259 entries, 0 to 59399\n",
      "Data columns (total 19 columns):\n",
      " #   Column           Non-Null Count  Dtype \n",
      "---  ------           --------------  ----- \n",
      " 0   date_recorded    59259 non-null  object\n",
      " 1   funder           59259 non-null  object\n",
      " 2   installer        59259 non-null  object\n",
      " 3   basin            59259 non-null  object\n",
      " 4   subvillage       59259 non-null  object\n",
      " 5   region           59259 non-null  object\n",
      " 6   lga              59259 non-null  object\n",
      " 7   ward             59259 non-null  object\n",
      " 8   public_meeting   59259 non-null  object\n",
      " 9   recorded_by      59259 non-null  object\n",
      " 10  permit           59259 non-null  object\n",
      " 11  extraction_type  59259 non-null  object\n",
      " 12  management       59259 non-null  object\n",
      " 13  payment          59259 non-null  object\n",
      " 14  water_quality    59259 non-null  object\n",
      " 15  quantity         59259 non-null  object\n",
      " 16  source           59259 non-null  object\n",
      " 17  waterpoint_type  59259 non-null  object\n",
      " 18  status_group     59259 non-null  object\n",
      "dtypes: object(19)\n",
      "memory usage: 9.0+ MB\n"
     ]
    }
   ],
   "source": [
    "df1_cat = df1.select_dtypes(include=['object'])\n",
    "df1_cat.info()"
   ]
  },
  {
   "cell_type": "code",
   "execution_count": 51,
   "metadata": {
    "scrolled": true
   },
   "outputs": [
    {
     "data": {
      "text/plain": [
       "{'date_recorded': 356,\n",
       " 'funder': 1898,\n",
       " 'installer': 2146,\n",
       " 'basin': 9,\n",
       " 'subvillage': 19288,\n",
       " 'region': 21,\n",
       " 'lga': 125,\n",
       " 'ward': 2092,\n",
       " 'public_meeting': 3,\n",
       " 'recorded_by': 1,\n",
       " 'permit': 3,\n",
       " 'extraction_type': 18,\n",
       " 'management': 12,\n",
       " 'payment': 7,\n",
       " 'water_quality': 8,\n",
       " 'quantity': 5,\n",
       " 'source': 10,\n",
       " 'waterpoint_type': 7,\n",
       " 'status_group': 3}"
      ]
     },
     "execution_count": 51,
     "metadata": {},
     "output_type": "execute_result"
    }
   ],
   "source": [
    "#Cheking for the number of unique values in each column\n",
    "cols=[]\n",
    "unique_number = []\n",
    "for name in df1_cat.columns:\n",
    "    cols.append(name)\n",
    "for item in cols:\n",
    "    unique_number.append(df1_cat[item].nunique())\n",
    "    \n",
    "unique_dict =dict(zip(cols,unique_number))\n",
    "unique_dict"
   ]
  },
  {
   "cell_type": "markdown",
   "metadata": {},
   "source": [
    "Since there are certain feautures with a large number of unique values, we can try encoding the categorical data \n",
    "by using two diffrent methods to see which works best: label encoding and one hot encoding"
   ]
  },
  {
   "cell_type": "markdown",
   "metadata": {},
   "source": [
    "## Label encoding approach"
   ]
  },
  {
   "cell_type": "code",
   "execution_count": 52,
   "metadata": {},
   "outputs": [
    {
     "data": {
      "text/plain": [
       "(59259, 19)"
      ]
     },
     "execution_count": 52,
     "metadata": {},
     "output_type": "execute_result"
    }
   ],
   "source": [
    "#instantiate the encoder\n",
    "labelencoder = LabelEncoder()\n",
    "\n",
    "#converting df1_cat into str type \n",
    "df1_cat = df1_cat.astype('str')\n",
    "\n",
    "#fit and transform the categrical data\n",
    "df1_cat_enc = df1_cat.apply(labelencoder.fit_transform)\n",
    "df1_cat_enc.shape"
   ]
  },
  {
   "cell_type": "markdown",
   "metadata": {},
   "source": [
    "## One-hot encoding"
   ]
  },
  {
   "cell_type": "code",
   "execution_count": 53,
   "metadata": {
    "scrolled": false
   },
   "outputs": [
    {
     "data": {
      "text/plain": [
       "(59259, 26021)"
      ]
     },
     "execution_count": 53,
     "metadata": {},
     "output_type": "execute_result"
    }
   ],
   "source": [
    "#using the get dummies method to one hot encode\n",
    "df1_cat_ohe=pd.get_dummies(df1_cat)\n",
    "\n",
    "#creating another copy of the df for analysis \n",
    "df3 = df1.copy()\n",
    "df3.drop(df1_cat.columns,axis=1,inplace=True)\n",
    "\n",
    "#concatenating the two df's\n",
    "df3 = pd.concat([df3,df1_cat_ohe],axis=1)\n",
    "df3.shape"
   ]
  },
  {
   "cell_type": "markdown",
   "metadata": {},
   "source": [
    "We can see that having such a large df would be resource-hungry to analyze and fine-tune.\n",
    "Hence, we will use the LabelEncoding approach for our analysis "
   ]
  },
  {
   "cell_type": "code",
   "execution_count": 54,
   "metadata": {},
   "outputs": [
    {
     "name": "stdout",
     "output_type": "stream",
     "text": [
      "<class 'pandas.core.frame.DataFrame'>\n",
      "Int64Index: 59259 entries, 0 to 59399\n",
      "Data columns (total 9 columns):\n",
      " #   Column             Non-Null Count  Dtype  \n",
      "---  ------             --------------  -----  \n",
      " 0   amount_tsh         59259 non-null  float64\n",
      " 1   gps_height         59259 non-null  int64  \n",
      " 2   longitude          59259 non-null  float64\n",
      " 3   latitude           59259 non-null  float64\n",
      " 4   num_private        59259 non-null  int64  \n",
      " 5   region_code        59259 non-null  int64  \n",
      " 6   district_code      59259 non-null  int64  \n",
      " 7   population         59259 non-null  int64  \n",
      " 8   construction_year  59259 non-null  int64  \n",
      "dtypes: float64(3), int64(6)\n",
      "memory usage: 4.5 MB\n"
     ]
    },
    {
     "data": {
      "text/html": [
       "<div>\n",
       "<style scoped>\n",
       "    .dataframe tbody tr th:only-of-type {\n",
       "        vertical-align: middle;\n",
       "    }\n",
       "\n",
       "    .dataframe tbody tr th {\n",
       "        vertical-align: top;\n",
       "    }\n",
       "\n",
       "    .dataframe thead th {\n",
       "        text-align: right;\n",
       "    }\n",
       "</style>\n",
       "<table border=\"1\" class=\"dataframe\">\n",
       "  <thead>\n",
       "    <tr style=\"text-align: right;\">\n",
       "      <th></th>\n",
       "      <th>amount_tsh</th>\n",
       "      <th>gps_height</th>\n",
       "      <th>longitude</th>\n",
       "      <th>latitude</th>\n",
       "      <th>num_private</th>\n",
       "      <th>region_code</th>\n",
       "      <th>district_code</th>\n",
       "      <th>population</th>\n",
       "      <th>construction_year</th>\n",
       "      <th>date_recorded</th>\n",
       "      <th>...</th>\n",
       "      <th>recorded_by</th>\n",
       "      <th>permit</th>\n",
       "      <th>extraction_type</th>\n",
       "      <th>management</th>\n",
       "      <th>payment</th>\n",
       "      <th>water_quality</th>\n",
       "      <th>quantity</th>\n",
       "      <th>source</th>\n",
       "      <th>waterpoint_type</th>\n",
       "      <th>status_group</th>\n",
       "    </tr>\n",
       "  </thead>\n",
       "  <tbody>\n",
       "    <tr>\n",
       "      <th>0</th>\n",
       "      <td>6000.0</td>\n",
       "      <td>1390</td>\n",
       "      <td>34.938093</td>\n",
       "      <td>-9.856322</td>\n",
       "      <td>0</td>\n",
       "      <td>11</td>\n",
       "      <td>5</td>\n",
       "      <td>109</td>\n",
       "      <td>1999</td>\n",
       "      <td>171</td>\n",
       "      <td>...</td>\n",
       "      <td>0</td>\n",
       "      <td>0</td>\n",
       "      <td>3</td>\n",
       "      <td>7</td>\n",
       "      <td>2</td>\n",
       "      <td>6</td>\n",
       "      <td>1</td>\n",
       "      <td>8</td>\n",
       "      <td>1</td>\n",
       "      <td>0</td>\n",
       "    </tr>\n",
       "    <tr>\n",
       "      <th>1</th>\n",
       "      <td>0.0</td>\n",
       "      <td>1399</td>\n",
       "      <td>34.698766</td>\n",
       "      <td>-2.147466</td>\n",
       "      <td>0</td>\n",
       "      <td>20</td>\n",
       "      <td>2</td>\n",
       "      <td>280</td>\n",
       "      <td>2010</td>\n",
       "      <td>216</td>\n",
       "      <td>...</td>\n",
       "      <td>0</td>\n",
       "      <td>2</td>\n",
       "      <td>3</td>\n",
       "      <td>11</td>\n",
       "      <td>0</td>\n",
       "      <td>6</td>\n",
       "      <td>2</td>\n",
       "      <td>5</td>\n",
       "      <td>1</td>\n",
       "      <td>0</td>\n",
       "    </tr>\n",
       "    <tr>\n",
       "      <th>2</th>\n",
       "      <td>25.0</td>\n",
       "      <td>686</td>\n",
       "      <td>37.460664</td>\n",
       "      <td>-3.821329</td>\n",
       "      <td>0</td>\n",
       "      <td>21</td>\n",
       "      <td>4</td>\n",
       "      <td>250</td>\n",
       "      <td>2009</td>\n",
       "      <td>144</td>\n",
       "      <td>...</td>\n",
       "      <td>0</td>\n",
       "      <td>2</td>\n",
       "      <td>3</td>\n",
       "      <td>7</td>\n",
       "      <td>4</td>\n",
       "      <td>6</td>\n",
       "      <td>1</td>\n",
       "      <td>0</td>\n",
       "      <td>2</td>\n",
       "      <td>0</td>\n",
       "    </tr>\n",
       "    <tr>\n",
       "      <th>3</th>\n",
       "      <td>0.0</td>\n",
       "      <td>263</td>\n",
       "      <td>38.486161</td>\n",
       "      <td>-11.155298</td>\n",
       "      <td>0</td>\n",
       "      <td>90</td>\n",
       "      <td>63</td>\n",
       "      <td>58</td>\n",
       "      <td>1986</td>\n",
       "      <td>21</td>\n",
       "      <td>...</td>\n",
       "      <td>0</td>\n",
       "      <td>2</td>\n",
       "      <td>14</td>\n",
       "      <td>7</td>\n",
       "      <td>0</td>\n",
       "      <td>6</td>\n",
       "      <td>0</td>\n",
       "      <td>3</td>\n",
       "      <td>2</td>\n",
       "      <td>2</td>\n",
       "    </tr>\n",
       "    <tr>\n",
       "      <th>4</th>\n",
       "      <td>0.0</td>\n",
       "      <td>0</td>\n",
       "      <td>31.130847</td>\n",
       "      <td>-1.825359</td>\n",
       "      <td>0</td>\n",
       "      <td>18</td>\n",
       "      <td>1</td>\n",
       "      <td>0</td>\n",
       "      <td>0</td>\n",
       "      <td>268</td>\n",
       "      <td>...</td>\n",
       "      <td>0</td>\n",
       "      <td>2</td>\n",
       "      <td>3</td>\n",
       "      <td>1</td>\n",
       "      <td>0</td>\n",
       "      <td>6</td>\n",
       "      <td>3</td>\n",
       "      <td>5</td>\n",
       "      <td>1</td>\n",
       "      <td>0</td>\n",
       "    </tr>\n",
       "  </tbody>\n",
       "</table>\n",
       "<p>5 rows × 28 columns</p>\n",
       "</div>"
      ],
      "text/plain": [
       "   amount_tsh  gps_height  longitude   latitude  num_private  region_code  \\\n",
       "0      6000.0        1390  34.938093  -9.856322            0           11   \n",
       "1         0.0        1399  34.698766  -2.147466            0           20   \n",
       "2        25.0         686  37.460664  -3.821329            0           21   \n",
       "3         0.0         263  38.486161 -11.155298            0           90   \n",
       "4         0.0           0  31.130847  -1.825359            0           18   \n",
       "\n",
       "   district_code  population  construction_year  date_recorded  ...  \\\n",
       "0              5         109               1999            171  ...   \n",
       "1              2         280               2010            216  ...   \n",
       "2              4         250               2009            144  ...   \n",
       "3             63          58               1986             21  ...   \n",
       "4              1           0                  0            268  ...   \n",
       "\n",
       "   recorded_by  permit  extraction_type  management  payment  water_quality  \\\n",
       "0            0       0                3           7        2              6   \n",
       "1            0       2                3          11        0              6   \n",
       "2            0       2                3           7        4              6   \n",
       "3            0       2               14           7        0              6   \n",
       "4            0       2                3           1        0              6   \n",
       "\n",
       "   quantity  source  waterpoint_type  status_group  \n",
       "0         1       8                1             0  \n",
       "1         2       5                1             0  \n",
       "2         1       0                2             0  \n",
       "3         0       3                2             2  \n",
       "4         3       5                1             0  \n",
       "\n",
       "[5 rows x 28 columns]"
      ]
     },
     "execution_count": 54,
     "metadata": {},
     "output_type": "execute_result"
    }
   ],
   "source": [
    "#making a copy for analysis\n",
    "df2 = df1.copy()\n",
    "\n",
    "#dropping the categorical columns\n",
    "df2.drop(df1_cat_enc.columns,axis=1,inplace=True)\n",
    "df2.info()\n",
    "\n",
    "#combining the encoded and numeric data\n",
    "df2 = pd.concat([df2,df1_cat_enc],axis=1)\n",
    "df2.head()"
   ]
  },
  {
   "cell_type": "markdown",
   "metadata": {},
   "source": [
    "We now have df2 with encoded values that we can use for modelling.\n",
    "We will build 3 different basline models and compare their accuracies. We will then select \n",
    "the one with the highest accuracy to fine tune and build upon."
   ]
  },
  {
   "cell_type": "markdown",
   "metadata": {},
   "source": [
    "# Building baseline models"
   ]
  },
  {
   "cell_type": "markdown",
   "metadata": {},
   "source": [
    "## Logistic Regression"
   ]
  },
  {
   "cell_type": "code",
   "execution_count": 55,
   "metadata": {},
   "outputs": [
    {
     "name": "stdout",
     "output_type": "stream",
     "text": [
      "                         precision    recall  f1-score   support\n",
      "\n",
      "             functional       0.56      0.90      0.69      7945\n",
      "         non functional       0.00      0.00      0.00      1091\n",
      "functional needs repair       0.56      0.21      0.31      5779\n",
      "\n",
      "               accuracy                           0.56     14815\n",
      "              macro avg       0.38      0.37      0.33     14815\n",
      "           weighted avg       0.52      0.56      0.49     14815\n",
      "\n"
     ]
    }
   ],
   "source": [
    "#creating X and y\n",
    "X=df2.drop('status_group',axis=1)\n",
    "y=df2[['status_group']]\n",
    "\n",
    "#splitting the train and test sets\n",
    "X_train,X_test,y_train,y_test = train_test_split(X,y,random_state=123)\n",
    "\n",
    "#instantiate logistic regression model\n",
    "logreg = LogisticRegression(random_state=123)\n",
    "\n",
    "#fit the model onto the train sets\n",
    "logreg.fit(X_train,y_train)\n",
    "logreg\n",
    "\n",
    "#predict values of the model\n",
    "y_hat_train = logreg.predict(X_train)\n",
    "y_hat_test = logreg.predict(X_test)\n",
    "\n",
    "#evaluate model \n",
    "names = ['functional','non functional','functional needs repair']\n",
    "accuracy_logreg = round(accuracy_score(y_test,y_hat_test),3)\n",
    "print(classification_report(y_test,y_hat_test,target_names=names))\n"
   ]
  },
  {
   "cell_type": "markdown",
   "metadata": {},
   "source": [
    "## Decision Tree "
   ]
  },
  {
   "cell_type": "code",
   "execution_count": 56,
   "metadata": {},
   "outputs": [
    {
     "name": "stdout",
     "output_type": "stream",
     "text": [
      "                         precision    recall  f1-score   support\n",
      "\n",
      "             functional       0.79      0.79      0.79      7945\n",
      "         non functional       0.38      0.38      0.38      1091\n",
      "functional needs repair       0.76      0.76      0.76      5779\n",
      "\n",
      "               accuracy                           0.75     14815\n",
      "              macro avg       0.64      0.64      0.64     14815\n",
      "           weighted avg       0.75      0.75      0.75     14815\n",
      "\n"
     ]
    }
   ],
   "source": [
    "#instantiate \n",
    "clf = DecisionTreeClassifier(criterion='entropy',random_state=123)\n",
    "\n",
    "#fit the model onto the train sets\n",
    "clf.fit(X_train,y_train)\n",
    "\n",
    "#predict \n",
    "y_hat_train = clf.predict(X_train)\n",
    "y_hat_test = clf.predict(X_test)\n",
    "\n",
    "#evaluate model\n",
    "accuracy_tree = round(accuracy_score(y_test,y_hat_test),3)\n",
    "print(classification_report(y_test,y_hat_test,target_names=names))\n"
   ]
  },
  {
   "cell_type": "markdown",
   "metadata": {},
   "source": [
    "## KNN model"
   ]
  },
  {
   "cell_type": "code",
   "execution_count": 57,
   "metadata": {},
   "outputs": [
    {
     "name": "stdout",
     "output_type": "stream",
     "text": [
      "                         precision    recall  f1-score   support\n",
      "\n",
      "             functional       0.65      0.76      0.70      7945\n",
      "         non functional       0.31      0.16      0.21      1091\n",
      "functional needs repair       0.61      0.52      0.56      5779\n",
      "\n",
      "               accuracy                           0.62     14815\n",
      "              macro avg       0.52      0.48      0.49     14815\n",
      "           weighted avg       0.61      0.62      0.61     14815\n",
      "\n"
     ]
    }
   ],
   "source": [
    "#instantiate \n",
    "knn_baseline_model = KNeighborsClassifier()\n",
    "\n",
    "#fit onto the data\n",
    "knn_baseline_model.fit(X_train,y_train)\n",
    "\n",
    "#predict\n",
    "y_hat_train = knn_baseline_model.predict(X_train)\n",
    "y_hat_test = knn_baseline_model.predict(X_test)\n",
    "\n",
    "#evaluate model \n",
    "accuracy_knn = round(accuracy_score(y_test,y_hat_test),3)\n",
    "print(classification_report(y_test,y_hat_test,target_names=names))"
   ]
  },
  {
   "cell_type": "markdown",
   "metadata": {},
   "source": [
    "## Selecting a model"
   ]
  },
  {
   "cell_type": "code",
   "execution_count": 58,
   "metadata": {},
   "outputs": [
    {
     "name": "stdout",
     "output_type": "stream",
     "text": [
      "accuracy of baseline logistic regression is 0.563\n",
      "accuracy of baseline decision tree is 0.748\n",
      "accuracy of knn model is 0.624\n"
     ]
    }
   ],
   "source": [
    "#import the metrics library\n",
    "print(f'accuracy of baseline logistic regression is {accuracy_logreg}')\n",
    "print(f'accuracy of baseline decision tree is {accuracy_tree}')\n",
    "print(f'accuracy of knn model is {accuracy_knn}')"
   ]
  },
  {
   "cell_type": "markdown",
   "metadata": {},
   "source": [
    "Since, the decision tree baseline model has the highest performance score, we will build on that for further analysis"
   ]
  },
  {
   "cell_type": "markdown",
   "metadata": {},
   "source": [
    "# Decision Tree"
   ]
  },
  {
   "cell_type": "code",
   "execution_count": 59,
   "metadata": {},
   "outputs": [
    {
     "name": "stdout",
     "output_type": "stream",
     "text": [
      "TRAIN SCORES\n",
      "                         precision    recall  f1-score   support\n",
      "\n",
      "             functional       1.00      1.00      1.00     24241\n",
      "         non functional       1.00      1.00      1.00      3217\n",
      "functional needs repair       1.00      1.00      1.00     16986\n",
      "\n",
      "               accuracy                           1.00     44444\n",
      "              macro avg       1.00      1.00      1.00     44444\n",
      "           weighted avg       1.00      1.00      1.00     44444\n",
      "\n",
      "--------------------------------------------------------------\n",
      "TEST SCORES\n",
      "                         precision    recall  f1-score   support\n",
      "\n",
      "             functional       0.79      0.79      0.79      7945\n",
      "         non functional       0.38      0.38      0.38      1091\n",
      "functional needs repair       0.76      0.76      0.76      5779\n",
      "\n",
      "               accuracy                           0.75     14815\n",
      "              macro avg       0.64      0.64      0.64     14815\n",
      "           weighted avg       0.75      0.75      0.75     14815\n",
      "\n"
     ]
    }
   ],
   "source": [
    "#re-run the basline model so all variables are updated correctly\n",
    "#for the train and test sets\n",
    "\n",
    "#instantiate \n",
    "clf = DecisionTreeClassifier(criterion='entropy',random_state=123)\n",
    "\n",
    "#fit the model onto the train sets\n",
    "clf.fit(X_train,y_train)\n",
    "clf\n",
    "\n",
    "#predict \n",
    "y_hat_train = clf.predict(X_train)\n",
    "y_hat_test = clf.predict(X_test)\n",
    "\n",
    "#evaluate model \n",
    "from sklearn.metrics import classification_report\n",
    "\n",
    "print('TRAIN SCORES')\n",
    "print(classification_report(y_train,y_hat_train,target_names=names))\n",
    "print('--------------------------------------------------------------')\n",
    "print('TEST SCORES')\n",
    "print(classification_report(y_test,y_hat_test,target_names=names))\n",
    "\n",
    "accuracy_baseline_train = accuracy_score(y_train,y_hat_train)\n",
    "accuracy_baseline_test = accuracy_score(y_test,y_hat_test)"
   ]
  },
  {
   "cell_type": "markdown",
   "metadata": {},
   "source": [
    "We can see that the model is clearly overfitting on the train dataset."
   ]
  },
  {
   "cell_type": "markdown",
   "metadata": {},
   "source": [
    "## Hyperparameter Tuning"
   ]
  },
  {
   "cell_type": "markdown",
   "metadata": {},
   "source": [
    "### max_depth"
   ]
  },
  {
   "cell_type": "code",
   "execution_count": 60,
   "metadata": {},
   "outputs": [
    {
     "data": {
      "text/plain": [
       "Text(0.5, 1.0, 'max_depth')"
      ]
     },
     "execution_count": 60,
     "metadata": {},
     "output_type": "execute_result"
    },
    {
     "data": {
      "image/png": "[encoded data removed]",
      "text/plain": [
       "<Figure size 504x504 with 1 Axes>"
      ]
     },
     "metadata": {
      "needs_background": "light"
     },
     "output_type": "display_data"
    }
   ],
   "source": [
    "#creating a list of depth values\n",
    "max_depth = np.arange(1,50)\n",
    "\n",
    "#creating an empty list to store scores for each depth\n",
    "accuracy_test_scores = []\n",
    "\n",
    "\n",
    "# create a loop for the classifier to run with the different depth values\n",
    "for depth in max_depth:\n",
    "    \n",
    "    #instantiate\n",
    "    classifier = DecisionTreeClassifier(criterion='entropy',max_depth=depth,random_state=123)\n",
    "    \n",
    "    #fit the model\n",
    "    classifier.fit(X_train,y_train)\n",
    "    \n",
    "    #predict values\n",
    "    y_hat_test = classifier.predict(X_test)\n",
    "    \n",
    "    #calculate\n",
    "    accuracy = accuracy_score(y_test,y_hat_test)    \n",
    "\n",
    "    \n",
    "    #add the scores to the list\n",
    "    accuracy_test_scores.append(accuracy)\n",
    "\n",
    "    \n",
    "#visualize the data\n",
    "import matplotlib.pyplot as plt\n",
    "fig,ax = plt.subplots(figsize=(7,7))\n",
    "ax.plot(max_depth,accuracy_test_scores,c='b')\n",
    "ax.set_xlabel('max_depth')\n",
    "ax.set_ylabel('accuracy')\n",
    "ax.set_title('max_depth')\n"
   ]
  },
  {
   "cell_type": "markdown",
   "metadata": {},
   "source": [
    "We can see that the accuracy for the model peaks at 15 before decreasing and levelling off"
   ]
  },
  {
   "cell_type": "markdown",
   "metadata": {},
   "source": [
    "### min_samples_split"
   ]
  },
  {
   "cell_type": "code",
   "execution_count": 61,
   "metadata": {},
   "outputs": [
    {
     "data": {
      "image/png": "[encoded data removed]",
      "text/plain": [
       "<Figure size 504x504 with 1 Axes>"
      ]
     },
     "metadata": {
      "needs_background": "light"
     },
     "output_type": "display_data"
    }
   ],
   "source": [
    "#use the optimum value of depth\n",
    "depth = 15\n",
    "\n",
    "#define a range of min_samples_for each split\n",
    "min_samples_range = np.arange(18,30)\n",
    "\n",
    "#create a loop with the optimum depth and different min_samples\n",
    "#creating an empty list to store scores for each depth\n",
    "accuracy_test_scores = []\n",
    "# accuracy_scores = []\n",
    "# precision_scores = []\n",
    "# recall_scores = []\n",
    "\n",
    "# create a loop for the classifier to run with the different depth values\n",
    "for sample in min_samples_range:\n",
    "    \n",
    "    #instantiate\n",
    "    classifier = DecisionTreeClassifier(criterion='entropy',max_depth=depth,min_samples_split=sample,random_state=123)\n",
    "    \n",
    "    #fit the model\n",
    "    classifier.fit(X_train,y_train)\n",
    "    \n",
    "    #predict values\n",
    "    y_hat_test = classifier.predict(X_test)\n",
    "    \n",
    "    #calculate\n",
    "    accuracy = accuracy_score(y_test,y_hat_test)    \n",
    "    \n",
    "    #add the scores to the list\n",
    "    accuracy_test_scores.append(accuracy)\n",
    "\n",
    "\n",
    "#visualize\n",
    "fig,ax = plt.subplots(figsize=(7,7))\n",
    "ax.plot(min_samples_range,accuracy_test_scores,c='b')\n",
    "\n",
    "ax.set_xlabel('min_samples')\n",
    "ax.set_ylabel('accuracy')\n",
    "ax.set_title('min_samples_split')\n",
    "plt.show();\n"
   ]
  },
  {
   "cell_type": "markdown",
   "metadata": {},
   "source": [
    "We can see that the accuracy peaks at a sample value of 28"
   ]
  },
  {
   "cell_type": "markdown",
   "metadata": {},
   "source": [
    "### min_samples_leaf"
   ]
  },
  {
   "cell_type": "code",
   "execution_count": 62,
   "metadata": {},
   "outputs": [
    {
     "data": {
      "image/png": "[encoded data removed]",
      "text/plain": [
       "<Figure size 504x504 with 1 Axes>"
      ]
     },
     "metadata": {
      "needs_background": "light"
     },
     "output_type": "display_data"
    }
   ],
   "source": [
    "#use the optimum value of depth,min_samples_split\n",
    "depth = 15\n",
    "min_split = 28\n",
    "\n",
    "#define a range of min_samples_for each split\n",
    "min_leaf_range = np.arange(2,20)\n",
    "\n",
    "#create a loop with the optimum depth and different min_samples\n",
    "#creating an empty list to store scores for each depth\n",
    "accuracy_test_scores = []\n",
    "\n",
    "# create a loop for the classifier to run with the different depth values\n",
    "for sample in min_leaf_range:\n",
    "    \n",
    "    #instantiate\n",
    "    classifier = DecisionTreeClassifier(criterion='entropy',max_depth=depth,min_samples_split=min_split,\n",
    "                                       min_samples_leaf=sample, random_state=123)\n",
    "    \n",
    "    #fit the model\n",
    "    classifier.fit(X_train,y_train)\n",
    "    \n",
    "    #predict values\n",
    "    y_hat_test = classifier.predict(X_test)\n",
    "    \n",
    "    #calculate\n",
    "    accuracy = accuracy_score(y_test,y_hat_test)    \n",
    "    \n",
    "    #add the scores to the list\n",
    "    accuracy_test_scores.append(accuracy)\n",
    "\n",
    "\n",
    "#visual\n",
    "fig,ax = plt.subplots(figsize=(7,7))\n",
    "ax.plot(min_leaf_range,accuracy_test_scores,c='b')\n",
    "\n",
    "ax.set_xlabel('min_leaf')\n",
    "ax.set_ylabel('f1_score')\n",
    "ax.set_title('min_leaf_samples')\n",
    "\n",
    "plt.show();\n"
   ]
  },
  {
   "cell_type": "markdown",
   "metadata": {},
   "source": [
    "We can see that the peak value is 3"
   ]
  },
  {
   "cell_type": "markdown",
   "metadata": {},
   "source": [
    "### model with optimized parameters"
   ]
  },
  {
   "cell_type": "code",
   "execution_count": 63,
   "metadata": {
    "scrolled": false
   },
   "outputs": [
    {
     "name": "stdout",
     "output_type": "stream",
     "text": [
      "TRAIN SCORES\n",
      "---------------------------------------------------------\n",
      "                         precision    recall  f1-score   support\n",
      "\n",
      "             functional       0.81      0.90      0.85     24241\n",
      "         non functional       0.69      0.35      0.46      3217\n",
      "functional needs repair       0.84      0.78      0.81     16986\n",
      "\n",
      "               accuracy                           0.81     44444\n",
      "              macro avg       0.78      0.68      0.71     44444\n",
      "           weighted avg       0.81      0.81      0.81     44444\n",
      "\n",
      "TEST SCORES\n",
      "----------------------------------------------------------\n",
      "                         precision    recall  f1-score   support\n",
      "\n",
      "             functional       0.77      0.86      0.81      7945\n",
      "         non functional       0.52      0.27      0.36      1091\n",
      "functional needs repair       0.78      0.73      0.76      5779\n",
      "\n",
      "               accuracy                           0.77     14815\n",
      "              macro avg       0.69      0.62      0.64     14815\n",
      "           weighted avg       0.76      0.77      0.76     14815\n",
      "\n"
     ]
    }
   ],
   "source": [
    "#run the model with the optimized parameters\n",
    "depth=15\n",
    "samples=28\n",
    "leaf=3\n",
    "\n",
    "#instantiate\n",
    "classifier = DecisionTreeClassifier(criterion='entropy',max_depth=depth,min_samples_split=samples,\n",
    "                                    min_samples_leaf=leaf,random_state=123)\n",
    "\n",
    "#fit the model\n",
    "classifier.fit(X_train,y_train)\n",
    "\n",
    "#predict values\n",
    "y_hat_train = classifier.predict(X_train)\n",
    "y_hat_test = classifier.predict(X_test)\n",
    "\n",
    "#scores\n",
    "print('TRAIN SCORES')\n",
    "print('---------------------------------------------------------')\n",
    "print(classification_report(y_train,y_hat_train,target_names=names))\n",
    "print('TEST SCORES')\n",
    "print('----------------------------------------------------------')\n",
    "print(classification_report(y_test,y_hat_test,target_names=names))\n",
    "\n",
    "accuracy_optimized_train = accuracy_score(y_train,y_hat_train)\n",
    "accuracy_optimized_test = accuracy_score(y_test,y_hat_test)\n",
    "\n",
    "f1_score_optimized_train = f1_score(y_train,y_hat_train,average='macro')\n",
    "f1_score_optimized_test = f1_score(y_test,y_hat_test,average='macro')"
   ]
  },
  {
   "cell_type": "markdown",
   "metadata": {},
   "source": [
    "## feature_importance"
   ]
  },
  {
   "cell_type": "code",
   "execution_count": 64,
   "metadata": {
    "scrolled": true
   },
   "outputs": [
    {
     "data": {
      "text/html": [
       "<div>\n",
       "<style scoped>\n",
       "    .dataframe tbody tr th:only-of-type {\n",
       "        vertical-align: middle;\n",
       "    }\n",
       "\n",
       "    .dataframe tbody tr th {\n",
       "        vertical-align: top;\n",
       "    }\n",
       "\n",
       "    .dataframe thead th {\n",
       "        text-align: right;\n",
       "    }\n",
       "</style>\n",
       "<table border=\"1\" class=\"dataframe\">\n",
       "  <thead>\n",
       "    <tr style=\"text-align: right;\">\n",
       "      <th></th>\n",
       "      <th>features</th>\n",
       "      <th>importance</th>\n",
       "    </tr>\n",
       "  </thead>\n",
       "  <tbody>\n",
       "    <tr>\n",
       "      <th>0</th>\n",
       "      <td>amount_tsh</td>\n",
       "      <td>0.031239</td>\n",
       "    </tr>\n",
       "    <tr>\n",
       "      <th>1</th>\n",
       "      <td>gps_height</td>\n",
       "      <td>0.031743</td>\n",
       "    </tr>\n",
       "    <tr>\n",
       "      <th>2</th>\n",
       "      <td>longitude</td>\n",
       "      <td>0.098954</td>\n",
       "    </tr>\n",
       "    <tr>\n",
       "      <th>3</th>\n",
       "      <td>latitude</td>\n",
       "      <td>0.074584</td>\n",
       "    </tr>\n",
       "    <tr>\n",
       "      <th>4</th>\n",
       "      <td>num_private</td>\n",
       "      <td>0.000000</td>\n",
       "    </tr>\n",
       "  </tbody>\n",
       "</table>\n",
       "</div>"
      ],
      "text/plain": [
       "      features  importance\n",
       "0   amount_tsh    0.031239\n",
       "1   gps_height    0.031743\n",
       "2    longitude    0.098954\n",
       "3     latitude    0.074584\n",
       "4  num_private    0.000000"
      ]
     },
     "execution_count": 64,
     "metadata": {},
     "output_type": "execute_result"
    }
   ],
   "source": [
    "#creating a df with just feature_importance data\n",
    "df_importance = pd.DataFrame({'features':X_train.columns,\n",
    "                             'importance':classifier.feature_importances_})\n",
    "\n",
    "df_importance.head()"
   ]
  },
  {
   "cell_type": "code",
   "execution_count": 65,
   "metadata": {},
   "outputs": [
    {
     "data": {
      "text/html": [
       "<div>\n",
       "<style scoped>\n",
       "    .dataframe tbody tr th:only-of-type {\n",
       "        vertical-align: middle;\n",
       "    }\n",
       "\n",
       "    .dataframe tbody tr th {\n",
       "        vertical-align: top;\n",
       "    }\n",
       "\n",
       "    .dataframe thead th {\n",
       "        text-align: right;\n",
       "    }\n",
       "</style>\n",
       "<table border=\"1\" class=\"dataframe\">\n",
       "  <thead>\n",
       "    <tr style=\"text-align: right;\">\n",
       "      <th></th>\n",
       "      <th>features</th>\n",
       "      <th>importance</th>\n",
       "    </tr>\n",
       "  </thead>\n",
       "  <tbody>\n",
       "    <tr>\n",
       "      <th>4</th>\n",
       "      <td>num_private</td>\n",
       "      <td>0.000000</td>\n",
       "    </tr>\n",
       "    <tr>\n",
       "      <th>18</th>\n",
       "      <td>recorded_by</td>\n",
       "      <td>0.000000</td>\n",
       "    </tr>\n",
       "    <tr>\n",
       "      <th>23</th>\n",
       "      <td>water_quality</td>\n",
       "      <td>0.004022</td>\n",
       "    </tr>\n",
       "    <tr>\n",
       "      <th>17</th>\n",
       "      <td>public_meeting</td>\n",
       "      <td>0.005108</td>\n",
       "    </tr>\n",
       "    <tr>\n",
       "      <th>19</th>\n",
       "      <td>permit</td>\n",
       "      <td>0.005273</td>\n",
       "    </tr>\n",
       "  </tbody>\n",
       "</table>\n",
       "</div>"
      ],
      "text/plain": [
       "          features  importance\n",
       "4      num_private    0.000000\n",
       "18     recorded_by    0.000000\n",
       "23   water_quality    0.004022\n",
       "17  public_meeting    0.005108\n",
       "19          permit    0.005273"
      ]
     },
     "execution_count": 65,
     "metadata": {},
     "output_type": "execute_result"
    }
   ],
   "source": [
    "#sorting the importance in ascending order\n",
    "df_importance_sorted = df_importance.sort_values(by=['importance'],ascending=True)\n",
    "df_importance_sorted.head()"
   ]
  },
  {
   "cell_type": "code",
   "execution_count": 66,
   "metadata": {},
   "outputs": [
    {
     "data": {
      "image/png": "[encoded data removed]",
      "text/plain": [
       "<Figure size 720x720 with 1 Axes>"
      ]
     },
     "metadata": {
      "needs_background": "light"
     },
     "output_type": "display_data"
    }
   ],
   "source": [
    "fig,ax=plt.subplots(figsize=(10,10))\n",
    "df_importance_sorted.plot(kind='barh',ax=ax);\n",
    "ax.set_yticklabels(df_importance_sorted['features'])\n",
    "ax.set_title('feature_importance');\n",
    "ax.legend(loc=4);"
   ]
  },
  {
   "cell_type": "markdown",
   "metadata": {},
   "source": [
    "Let's build a model based on the top_10 features to see if we can get better results"
   ]
  },
  {
   "cell_type": "markdown",
   "metadata": {},
   "source": [
    "### extracting top_10 features"
   ]
  },
  {
   "cell_type": "code",
   "execution_count": 67,
   "metadata": {
    "scrolled": true
   },
   "outputs": [
    {
     "data": {
      "text/html": [
       "<div>\n",
       "<style scoped>\n",
       "    .dataframe tbody tr th:only-of-type {\n",
       "        vertical-align: middle;\n",
       "    }\n",
       "\n",
       "    .dataframe tbody tr th {\n",
       "        vertical-align: top;\n",
       "    }\n",
       "\n",
       "    .dataframe thead th {\n",
       "        text-align: right;\n",
       "    }\n",
       "</style>\n",
       "<table border=\"1\" class=\"dataframe\">\n",
       "  <thead>\n",
       "    <tr style=\"text-align: right;\">\n",
       "      <th></th>\n",
       "      <th>features</th>\n",
       "    </tr>\n",
       "  </thead>\n",
       "  <tbody>\n",
       "    <tr>\n",
       "      <th>1</th>\n",
       "      <td>gps_height</td>\n",
       "    </tr>\n",
       "    <tr>\n",
       "      <th>25</th>\n",
       "      <td>source</td>\n",
       "    </tr>\n",
       "    <tr>\n",
       "      <th>9</th>\n",
       "      <td>date_recorded</td>\n",
       "    </tr>\n",
       "    <tr>\n",
       "      <th>15</th>\n",
       "      <td>lga</td>\n",
       "    </tr>\n",
       "    <tr>\n",
       "      <th>8</th>\n",
       "      <td>construction_year</td>\n",
       "    </tr>\n",
       "    <tr>\n",
       "      <th>10</th>\n",
       "      <td>funder</td>\n",
       "    </tr>\n",
       "    <tr>\n",
       "      <th>3</th>\n",
       "      <td>latitude</td>\n",
       "    </tr>\n",
       "    <tr>\n",
       "      <th>2</th>\n",
       "      <td>longitude</td>\n",
       "    </tr>\n",
       "    <tr>\n",
       "      <th>26</th>\n",
       "      <td>waterpoint_type</td>\n",
       "    </tr>\n",
       "    <tr>\n",
       "      <th>24</th>\n",
       "      <td>quantity</td>\n",
       "    </tr>\n",
       "  </tbody>\n",
       "</table>\n",
       "</div>"
      ],
      "text/plain": [
       "             features\n",
       "1          gps_height\n",
       "25             source\n",
       "9       date_recorded\n",
       "15                lga\n",
       "8   construction_year\n",
       "10             funder\n",
       "3            latitude\n",
       "2           longitude\n",
       "26    waterpoint_type\n",
       "24           quantity"
      ]
     },
     "execution_count": 67,
     "metadata": {},
     "output_type": "execute_result"
    }
   ],
   "source": [
    "#create a new df with the top_10 features alone\n",
    "\n",
    "#get top10 features as a df\n",
    "cols = df_importance_sorted['features'].tail(10)\n",
    "cols=pd.DataFrame(data=cols)\n",
    "cols"
   ]
  },
  {
   "cell_type": "code",
   "execution_count": 68,
   "metadata": {
    "scrolled": true
   },
   "outputs": [
    {
     "name": "stdout",
     "output_type": "stream",
     "text": [
      "(59259, 11)\n"
     ]
    },
    {
     "data": {
      "text/html": [
       "<div>\n",
       "<style scoped>\n",
       "    .dataframe tbody tr th:only-of-type {\n",
       "        vertical-align: middle;\n",
       "    }\n",
       "\n",
       "    .dataframe tbody tr th {\n",
       "        vertical-align: top;\n",
       "    }\n",
       "\n",
       "    .dataframe thead th {\n",
       "        text-align: right;\n",
       "    }\n",
       "</style>\n",
       "<table border=\"1\" class=\"dataframe\">\n",
       "  <thead>\n",
       "    <tr style=\"text-align: right;\">\n",
       "      <th></th>\n",
       "      <th>gps_height</th>\n",
       "      <th>source</th>\n",
       "      <th>date_recorded</th>\n",
       "      <th>lga</th>\n",
       "      <th>construction_year</th>\n",
       "      <th>funder</th>\n",
       "      <th>latitude</th>\n",
       "      <th>longitude</th>\n",
       "      <th>waterpoint_type</th>\n",
       "      <th>quantity</th>\n",
       "      <th>status_group</th>\n",
       "    </tr>\n",
       "  </thead>\n",
       "  <tbody>\n",
       "    <tr>\n",
       "      <th>0</th>\n",
       "      <td>1390</td>\n",
       "      <td>8</td>\n",
       "      <td>171</td>\n",
       "      <td>51</td>\n",
       "      <td>1999</td>\n",
       "      <td>1370</td>\n",
       "      <td>-9.856322</td>\n",
       "      <td>34.938093</td>\n",
       "      <td>1</td>\n",
       "      <td>1</td>\n",
       "      <td>functional</td>\n",
       "    </tr>\n",
       "    <tr>\n",
       "      <th>1</th>\n",
       "      <td>1399</td>\n",
       "      <td>5</td>\n",
       "      <td>216</td>\n",
       "      <td>103</td>\n",
       "      <td>2010</td>\n",
       "      <td>469</td>\n",
       "      <td>-2.147466</td>\n",
       "      <td>34.698766</td>\n",
       "      <td>1</td>\n",
       "      <td>2</td>\n",
       "      <td>functional</td>\n",
       "    </tr>\n",
       "    <tr>\n",
       "      <th>2</th>\n",
       "      <td>686</td>\n",
       "      <td>0</td>\n",
       "      <td>144</td>\n",
       "      <td>108</td>\n",
       "      <td>2009</td>\n",
       "      <td>825</td>\n",
       "      <td>-3.821329</td>\n",
       "      <td>37.460664</td>\n",
       "      <td>2</td>\n",
       "      <td>1</td>\n",
       "      <td>functional</td>\n",
       "    </tr>\n",
       "    <tr>\n",
       "      <th>3</th>\n",
       "      <td>263</td>\n",
       "      <td>3</td>\n",
       "      <td>21</td>\n",
       "      <td>87</td>\n",
       "      <td>1986</td>\n",
       "      <td>1742</td>\n",
       "      <td>-11.155298</td>\n",
       "      <td>38.486161</td>\n",
       "      <td>2</td>\n",
       "      <td>0</td>\n",
       "      <td>non functional</td>\n",
       "    </tr>\n",
       "    <tr>\n",
       "      <th>4</th>\n",
       "      <td>0</td>\n",
       "      <td>5</td>\n",
       "      <td>268</td>\n",
       "      <td>26</td>\n",
       "      <td>0</td>\n",
       "      <td>20</td>\n",
       "      <td>-1.825359</td>\n",
       "      <td>31.130847</td>\n",
       "      <td>1</td>\n",
       "      <td>3</td>\n",
       "      <td>functional</td>\n",
       "    </tr>\n",
       "  </tbody>\n",
       "</table>\n",
       "</div>"
      ],
      "text/plain": [
       "   gps_height  source  date_recorded  lga  construction_year  funder  \\\n",
       "0        1390       8            171   51               1999    1370   \n",
       "1        1399       5            216  103               2010     469   \n",
       "2         686       0            144  108               2009     825   \n",
       "3         263       3             21   87               1986    1742   \n",
       "4           0       5            268   26                  0      20   \n",
       "\n",
       "    latitude  longitude  waterpoint_type  quantity    status_group  \n",
       "0  -9.856322  34.938093                1         1      functional  \n",
       "1  -2.147466  34.698766                1         2      functional  \n",
       "2  -3.821329  37.460664                2         1      functional  \n",
       "3 -11.155298  38.486161                2         0  non functional  \n",
       "4  -1.825359  31.130847                1         3      functional  "
      ]
     },
     "execution_count": 68,
     "metadata": {},
     "output_type": "execute_result"
    }
   ],
   "source": [
    "#df with top10 features\n",
    "df_top10 =df2[list(cols['features'])]\n",
    "\n",
    "#combine with the target variable\n",
    "df_top10 = pd.concat([df_top10,df1['status_group']],axis=1)\n",
    "\n",
    "print(df_top10.shape)\n",
    "df_top10.head()"
   ]
  },
  {
   "cell_type": "markdown",
   "metadata": {},
   "source": [
    "## Decision Tree with the top10 features"
   ]
  },
  {
   "cell_type": "markdown",
   "metadata": {},
   "source": [
    "### GridSearch CV"
   ]
  },
  {
   "cell_type": "markdown",
   "metadata": {},
   "source": [
    "Rather than use the earlier approach, where we built a basline model and then tuned each hyperparameter seperately, we can combine all these steps into one using GridSearchCV"
   ]
  },
  {
   "cell_type": "code",
   "execution_count": 69,
   "metadata": {},
   "outputs": [
    {
     "name": "stdout",
     "output_type": "stream",
     "text": [
      "TRAIN SCORES\n",
      "--------------------------------------------------\n",
      "                         precision    recall  f1-score   support\n",
      "\n",
      "             functional       0.82      0.91      0.86     24241\n",
      "functional needs repair       0.65      0.34      0.44      3217\n",
      "         non functional       0.85      0.78      0.81     16986\n",
      "\n",
      "               accuracy                           0.82     44444\n",
      "              macro avg       0.77      0.68      0.71     44444\n",
      "           weighted avg       0.82      0.82      0.81     44444\n",
      "\n",
      "TEST SCORES\n",
      "--------------------------------------------------\n",
      "                         precision    recall  f1-score   support\n",
      "\n",
      "             functional       0.77      0.86      0.81      7945\n",
      "functional needs repair       0.51      0.27      0.35      1091\n",
      "         non functional       0.79      0.72      0.75      5779\n",
      "\n",
      "               accuracy                           0.77     14815\n",
      "              macro avg       0.69      0.62      0.64     14815\n",
      "           weighted avg       0.76      0.77      0.76     14815\n",
      "\n"
     ]
    }
   ],
   "source": [
    "#define X & y\n",
    "X = df_top10.drop('status_group',axis=1)\n",
    "y=df_top10[['status_group']]\n",
    "\n",
    "#split the data\n",
    "X_top10_train,X_top10_test,y_top10_train,y_top10_test = train_test_split(X,y,random_state=123)\n",
    "\n",
    "#instantiate\n",
    "clf_top10 = DecisionTreeClassifier(random_state=123)\n",
    "\n",
    "#define the parameter grid\n",
    "param_grid = {'max_depth': np.arange(15,20),\n",
    "              'min_samples_split': np.arange(25,30),\n",
    "              'min_samples_leaf': np.arange(3,10) \n",
    "             }\n",
    "\n",
    "#instantiate\n",
    "gs_tree = GridSearchCV(estimator=clf_top10,param_grid=param_grid,cv=5)\n",
    "\n",
    "#fit\n",
    "gs_tree.fit(X_top10_train,y_top10_train)\n",
    "\n",
    "#predict\n",
    "gs_tree_train = gs_tree.predict(X_top10_train)\n",
    "gs_tree_test = gs_tree.predict(X_top10_test)\n",
    "\n",
    "print('TRAIN SCORES')\n",
    "print('--------------------------------------------------')\n",
    "print(classification_report(y_top10_train,gs_tree_train))\n",
    "print('TEST SCORES')\n",
    "print('--------------------------------------------------')\n",
    "print(classification_report(y_top10_test,gs_tree_test))\n",
    "\n",
    "accuracy_grid_train = accuracy_score(y_top10_train,gs_tree_train)\n",
    "accuracy_grid_test = accuracy_score(y_top10_test,gs_tree_test)\n",
    "\n",
    "f1_score_gs_tree_train = f1_score(y_top10_train,gs_tree_train,average='macro')\n",
    "f1_score_gs_tree_test = f1_score(y_top10_test,gs_tree_test,average='macro')"
   ]
  },
  {
   "cell_type": "code",
   "execution_count": 77,
   "metadata": {},
   "outputs": [
    {
     "data": {
      "text/plain": [
       "{'max_depth': 19, 'min_samples_leaf': 7, 'min_samples_split': 27}"
      ]
     },
     "execution_count": 77,
     "metadata": {},
     "output_type": "execute_result"
    }
   ],
   "source": [
    "#getting the best parameters\n",
    "gs_tree.best_params_"
   ]
  },
  {
   "cell_type": "markdown",
   "metadata": {},
   "source": [
    "# Random Forest with top10 features"
   ]
  },
  {
   "cell_type": "markdown",
   "metadata": {},
   "source": [
    "\n",
    "Let's use a poupular ensemble method called Random Forest on the top_10 features to and compare it to the GridSearchCV model to see if we can make imporvements. Random Forest combines Bootstrapping and Sub-Space Sampling methods to build models that are robust and immune to noise in the data."
   ]
  },
  {
   "cell_type": "code",
   "execution_count": 75,
   "metadata": {},
   "outputs": [
    {
     "name": "stdout",
     "output_type": "stream",
     "text": [
      "TRAIN SCORES\n",
      "--------------------------------------------------\n",
      "                         precision    recall  f1-score   support\n",
      "\n",
      "             functional       0.80      0.94      0.87     24241\n",
      "functional needs repair       0.79      0.22      0.35      3217\n",
      "         non functional       0.88      0.77      0.82     16986\n",
      "\n",
      "               accuracy                           0.83     44444\n",
      "              macro avg       0.82      0.65      0.68     44444\n",
      "           weighted avg       0.83      0.83      0.81     44444\n",
      "\n",
      "TEST SCORES\n",
      "--------------------------------------------------\n",
      "                         precision    recall  f1-score   support\n",
      "\n",
      "             functional       0.77      0.92      0.83      7945\n",
      "functional needs repair       0.71      0.21      0.32      1091\n",
      "         non functional       0.84      0.72      0.78      5779\n",
      "\n",
      "               accuracy                           0.79     14815\n",
      "              macro avg       0.77      0.62      0.64     14815\n",
      "           weighted avg       0.79      0.79      0.77     14815\n",
      "\n"
     ]
    }
   ],
   "source": [
    "#instantiante the classifier with the same parameters from earlier\n",
    "forest=RandomForestClassifier(n_estimators=100,max_depth=19,min_samples_split=27,min_samples_leaf=7)\n",
    "\n",
    "#fit the data\n",
    "forest.fit(X_top10_train,y_top10_train)\n",
    "\n",
    "#predict\n",
    "forest_y_train = forest.predict(X_top10_train)\n",
    "forest_y_test = forest.predict(X_top10_test)\n",
    "\n",
    "#evaluate\n",
    "\n",
    "print('TRAIN SCORES')\n",
    "print('--------------------------------------------------')\n",
    "print(classification_report(y_top10_train,forest_y_train))\n",
    "print('TEST SCORES')\n",
    "print('--------------------------------------------------')\n",
    "print(classification_report(y_top10_test,forest_y_test))\n",
    "\n",
    "accuracy_forest_train = accuracy_score(y_top10_train,forest_y_train)\n",
    "accuracy_forest_test = accuracy_score(y_top10_test,forest_y_test)\n",
    "\n",
    "f1_score_rf_train = f1_score(y_top10_train,forest_y_train,average='macro')\n",
    "f1_score_rf_test = f1_score(y_top10_test,forest_y_test,average='macro')"
   ]
  },
  {
   "cell_type": "markdown",
   "metadata": {},
   "source": [
    "# Visualize scores"
   ]
  },
  {
   "cell_type": "code",
   "execution_count": 76,
   "metadata": {
    "scrolled": false
   },
   "outputs": [
    {
     "data": {
      "image/png": "[encoded data removed]",
      "text/plain": [
       "<Figure size 576x576 with 1 Axes>"
      ]
     },
     "metadata": {
      "needs_background": "light"
     },
     "output_type": "display_data"
    }
   ],
   "source": [
    "# create a dataframe of the scores for the different models\n",
    "score_df = pd.DataFrame({'train_accuracy': [accuracy_optimized_train,accuracy_grid_train,accuracy_forest_train],\n",
    "                        'test_accuracy': [accuracy_optimized_test,accuracy_grid_test,accuracy_forest_test],\n",
    "                        'train_f1': [f1_score_optimized_train,f1_score_gs_tree_train,f1_score_rf_train],\n",
    "                         'test_f1': [f1_score_optimized_test,f1_score_optimized_test,f1_score_rf_test]\n",
    "                        }, index=['optimized','grid','forest'])\n",
    "\n",
    "\n",
    "#plot the data\n",
    "fig,ax=plt.subplots(figsize=(8,8))\n",
    "score_df.plot(kind='line',ax=ax,marker='x');"
   ]
  },
  {
   "cell_type": "markdown",
   "metadata": {},
   "source": [
    "# Confusion Matrix"
   ]
  },
  {
   "cell_type": "code",
   "execution_count": 115,
   "metadata": {},
   "outputs": [
    {
     "data": {
      "image/png": "[encoded data removed]",
      "text/plain": [
       "<Figure size 576x576 with 2 Axes>"
      ]
     },
     "metadata": {
      "needs_background": "light"
     },
     "output_type": "display_data"
    }
   ],
   "source": [
    "#Plot the confusion matrix of the random forest model\n",
    "fig,ax=plt.subplots(figsize=(8,8))\n",
    "plot_confusion_matrix(forest,X_top10_test,y_top10_test,ax=ax,display_labels=names);"
   ]
  },
  {
   "cell_type": "markdown",
   "metadata": {},
   "source": [
    "We can clearly see that the 'functional needs repair' class is a problem for the model "
   ]
  },
  {
   "cell_type": "markdown",
   "metadata": {},
   "source": [
    "Earlier, we built the model with only the top10 features based on feature importance. Let's now try and build a model with all the features and see if more data helps improve performance."
   ]
  },
  {
   "cell_type": "markdown",
   "metadata": {},
   "source": [
    "# Random Forest with all the features"
   ]
  },
  {
   "cell_type": "code",
   "execution_count": 112,
   "metadata": {},
   "outputs": [
    {
     "name": "stdout",
     "output_type": "stream",
     "text": [
      "TRAIN SCORES\n",
      "---------------------------------------------------------\n",
      "                         precision    recall  f1-score   support\n",
      "\n",
      "             functional       0.81      0.95      0.87     24241\n",
      "         non functional       0.79      0.23      0.36      3217\n",
      "functional needs repair       0.89      0.79      0.84     16986\n",
      "\n",
      "               accuracy                           0.84     44444\n",
      "              macro avg       0.83      0.66      0.69     44444\n",
      "           weighted avg       0.84      0.84      0.82     44444\n",
      "\n",
      "TEST SCORES\n",
      "----------------------------------------------------------\n",
      "                         precision    recall  f1-score   support\n",
      "\n",
      "             functional       0.77      0.92      0.84      7945\n",
      "         non functional       0.72      0.21      0.33      1091\n",
      "functional needs repair       0.86      0.73      0.79      5779\n",
      "\n",
      "               accuracy                           0.80     14815\n",
      "              macro avg       0.78      0.62      0.65     14815\n",
      "           weighted avg       0.80      0.80      0.78     14815\n",
      "\n"
     ]
    }
   ],
   "source": [
    "#define X,y\n",
    "X=df2.drop('status_group',axis=1)\n",
    "y=df2[['status_group']]\n",
    "\n",
    "#using the cleaned dataset with all features\n",
    "X_train,X_test,y_train,y_test = train_test_split(X,y,random_state=123)\n",
    "\n",
    "#instantiate the classifier\n",
    "new_forest =RandomForestClassifier(n_estimators=100,max_depth=19,min_samples_split=27,min_samples_leaf=7)\n",
    "\n",
    "#fit the data\n",
    "new_forest.fit(X_train,y_train)\n",
    "\n",
    "#predict \n",
    "y_hat_train = new_forest.predict(X_train)\n",
    "y_hat_test = new_forest.predict(X_test)\n",
    "\n",
    "#scores\n",
    "print('TRAIN SCORES')\n",
    "print('---------------------------------------------------------')\n",
    "print(classification_report(y_train,y_hat_train,target_names=names))\n",
    "print('TEST SCORES')\n",
    "print('----------------------------------------------------------')\n",
    "print(classification_report(y_test,y_hat_test,target_names=names))\n"
   ]
  },
  {
   "cell_type": "markdown",
   "metadata": {},
   "source": [
    "## Confusion matrix"
   ]
  },
  {
   "cell_type": "code",
   "execution_count": 114,
   "metadata": {},
   "outputs": [
    {
     "data": {
      "image/png": "[encoded data removed]",
      "text/plain": [
       "<Figure size 1440x720 with 4 Axes>"
      ]
     },
     "metadata": {
      "needs_background": "light"
     },
     "output_type": "display_data"
    }
   ],
   "source": [
    "fig,(ax1,ax2)=plt.subplots(figsize=(20,10),nrows=1,ncols=2)\n",
    "plot_confusion_matrix(forest,X_top10_test,y_top10_test,ax=ax1,display_labels=names)\n",
    "plot_confusion_matrix(new_forest,X_test,y_test,ax=ax2,display_labels=names);\n",
    "fig.tight_layout(pad=10.0)\n",
    "ax1.set_title('top10 features only');\n",
    "ax2.set_title('all features');"
   ]
  },
  {
   "cell_type": "markdown",
   "metadata": {},
   "source": [
    "We can see that model has improved marginally."
   ]
  },
  {
   "cell_type": "markdown",
   "metadata": {},
   "source": [
    "# Examining the target feature"
   ]
  },
  {
   "cell_type": "code",
   "execution_count": 111,
   "metadata": {
    "scrolled": true
   },
   "outputs": [
    {
     "data": {
      "text/plain": [
       "functional                 32186\n",
       "non functional             22765\n",
       "functional needs repair     4308\n",
       "Name: status_group, dtype: int64"
      ]
     },
     "execution_count": 111,
     "metadata": {},
     "output_type": "execute_result"
    }
   ],
   "source": [
    "#examining the target variable\n",
    "df1['status_group'].value_counts()"
   ]
  },
  {
   "cell_type": "markdown",
   "metadata": {},
   "source": [
    "Clearly, we can see an imbalance in functional_needs_repair class. We can try to train a model with equal representation from each class and check the results."
   ]
  },
  {
   "cell_type": "markdown",
   "metadata": {},
   "source": [
    "## Training a model with a balanced data set"
   ]
  },
  {
   "cell_type": "code",
   "execution_count": 182,
   "metadata": {
    "scrolled": true
   },
   "outputs": [
    {
     "data": {
      "text/plain": [
       "2    4308\n",
       "1    4308\n",
       "0    4308\n",
       "Name: status_group, dtype: int64"
      ]
     },
     "execution_count": 182,
     "metadata": {},
     "output_type": "execute_result"
    }
   ],
   "source": [
    "#seperate each class into a seperate class with the same number of rows as the repair class\n",
    "functional = df2[df2['status_group'] == 0]\n",
    "functional = functional.iloc[0:4308,:]\n",
    "\n",
    "non_functional = df2[df2['status_group'] == 2]\n",
    "non_functional = non_functional.iloc[0:4308,:]\n",
    "\n",
    "repair = df2[df2['status_group'] == 1]\n",
    "repair['status_group'].value_counts()\n",
    "\n",
    "#concatenate all three df's \n",
    "new_df = pd.concat([functional,non_functional,repair])\n",
    "\n",
    "#check the value counts\n",
    "new_df['status_group'].value_counts()"
   ]
  },
  {
   "cell_type": "code",
   "execution_count": 175,
   "metadata": {
    "scrolled": false
   },
   "outputs": [
    {
     "name": "stdout",
     "output_type": "stream",
     "text": [
      "TRAIN SCORES\n",
      "---------------------------------------------------------\n",
      "                         precision    recall  f1-score   support\n",
      "\n",
      "             functional       1.00      1.00      1.00      3234\n",
      "         non functional       1.00      1.00      1.00      3241\n",
      "functional needs repair       1.00      1.00      1.00      3218\n",
      "\n",
      "               accuracy                           1.00      9693\n",
      "              macro avg       1.00      1.00      1.00      9693\n",
      "           weighted avg       1.00      1.00      1.00      9693\n",
      "\n",
      "TEST SCORES\n",
      "----------------------------------------------------------\n",
      "                         precision    recall  f1-score   support\n",
      "\n",
      "             functional       0.66      0.67      0.67      1074\n",
      "         non functional       0.71      0.73      0.72      1067\n",
      "functional needs repair       0.78      0.74      0.76      1090\n",
      "\n",
      "               accuracy                           0.71      3231\n",
      "              macro avg       0.72      0.71      0.71      3231\n",
      "           weighted avg       0.72      0.71      0.71      3231\n",
      "\n"
     ]
    }
   ],
   "source": [
    "#building the model\n",
    "\n",
    "#define X,y\n",
    "X=new_df.drop('status_group',axis=1)\n",
    "y=new_df[['status_group']]\n",
    "\n",
    "#using the cleaned dataset with all features\n",
    "X_train_new,X_test_new,y_train_new,y_test_new = train_test_split(X,y,random_state=123)\n",
    "\n",
    "#instantiate the classifier\n",
    "newdf_forest =RandomForestClassifier()\n",
    "\n",
    "#fit the data on the new_df\n",
    "forest1=newdf_forest.fit(X_train_new,y_train_new)\n",
    "\n",
    "#predict score on the new_df\n",
    "y_hat_train_new = new_forest.predict(X_train_new)\n",
    "y_hat_test_new = new_forest.predict(X_test_new)\n",
    "\n",
    "#scores\n",
    "print('TRAIN SCORES')\n",
    "print('---------------------------------------------------------')\n",
    "print(classification_report(y_train_new,y_hat_train_new,target_names=names))\n",
    "print('TEST SCORES')\n",
    "print('----------------------------------------------------------')\n",
    "print(classification_report(y_test_new,y_hat_test_new,target_names=names))\n"
   ]
  },
  {
   "cell_type": "code",
   "execution_count": 184,
   "metadata": {},
   "outputs": [
    {
     "name": "stdout",
     "output_type": "stream",
     "text": [
      "TEST SCORES\n",
      "----------------------------------------------------------\n",
      "                         precision    recall  f1-score   support\n",
      "\n",
      "             functional       0.66      0.67      0.66      1074\n",
      "         non functional       0.70      0.73      0.71      1067\n",
      "functional needs repair       0.77      0.74      0.75      1090\n",
      "\n",
      "               accuracy                           0.71      3231\n",
      "              macro avg       0.71      0.71      0.71      3231\n",
      "           weighted avg       0.71      0.71      0.71      3231\n",
      "\n"
     ]
    }
   ],
   "source": [
    "# with the model trained on the balanced dataset, let's check for predictions on the unbalanced dataset\n",
    "y_preds_train = forest1.predict(X_train) # original df\n",
    "y_preds_test = forest1.predict(X_test) #original df\n",
    "\n",
    "print('TEST SCORES')\n",
    "print('----------------------------------------------------------')\n",
    "print(classification_report(y_test,y_preds_test,target_names=names))"
   ]
  },
  {
   "cell_type": "markdown",
   "metadata": {},
   "source": [
    "## Gridsearch CV of the model trained on the balanced dataset"
   ]
  },
  {
   "cell_type": "code",
   "execution_count": null,
   "metadata": {},
   "outputs": [],
   "source": [
    "#already have the randomforest classifier trained : forest1\n",
    "\n",
    "#defining a param grid\n",
    "\n",
    "param_grid = {'max_depth': np.arange(0,10),\n",
    "              'min_samples_split': np.arange(0,10),\n",
    "              'min_samples_leaf': np.arange(0,10) \n",
    "             }\n",
    "\n",
    "grid_search_balanced = GridSearchCV(estimator=forest1,param_grid=param_grid,cv=5)\n",
    "\n",
    "#fit on the original df\n",
    "grid_search_balanced.fit(X_train,y_train)\n",
    "\n",
    "#predict scores\n",
    "y_hat_train_balanced = grid_search_balanced.predict(X_train)\n",
    "y_hat_test_balanced = grid_search_balanced.predict(X_test)\n",
    "\n",
    "#scores\n",
    "print('TRAIN SCORES')\n",
    "print('---------------------------------------------------------')\n",
    "print(classification_report(y_train,y_hat_train_balanced,target_names=names))\n",
    "print('TEST SCORES')\n",
    "print('----------------------------------------------------------')\n",
    "print(classification_report(y_test,y_hat_test_balanced,target_names=names))\n",
    "\n"
   ]
  },
  {
   "cell_type": "code",
   "execution_count": null,
   "metadata": {},
   "outputs": [],
   "source": []
  }
 ],
 "metadata": {
  "kernelspec": {
   "display_name": "Python (learn-env)",
   "language": "python",
   "name": "learn-env"
  },
  "language_info": {
   "codemirror_mode": {
    "name": "ipython",
    "version": 3
   },
   "file_extension": ".py",
   "mimetype": "text/x-python",
   "name": "python",
   "nbconvert_exporter": "python",
   "pygments_lexer": "ipython3",
   "version": "3.8.5"
  },
  "toc": {
   "base_numbering": 1,
   "nav_menu": {},
   "number_sections": true,
   "sideBar": true,
   "skip_h1_title": false,
   "title_cell": "Table of Contents",
   "title_sidebar": "Contents",
   "toc_cell": true,
   "toc_position": {
    "height": "calc(100% - 180px)",
    "left": "10px",
    "top": "150px",
    "width": "295px"
   },
   "toc_section_display": true,
   "toc_window_display": true
  }
 },
 "nbformat": 4,
 "nbformat_minor": 4
}
